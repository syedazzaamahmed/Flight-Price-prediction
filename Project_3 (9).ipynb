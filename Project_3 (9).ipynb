{
  "cells": [
    {
      "cell_type": "markdown",
      "source": [
        "# **Flight Price Prediction**\n",
        "<img src=\"https://imgur.com/1d67n2a.png\">\n",
        "\n",
        "## **About Dataset**\n",
        "### INTRODUCTION\n",
        "\n",
        "The objective of the study is to analyse the flight booking dataset obtained from [EaseMyTrip](https://easemytrip.com) website and to conduct various statistical hypothesis tests in order to get meaningful information from it. The Machine Learning Regression algorithms are used to train the dataset and predict a continuous target variable. [EaseMyTrip](https://easemytrip.com) is an internet platform for booking flight tickets, and hence a platform that potential passengers use to buy tickets. A thorough study of the data will aid in the discovery of valuable insights that will be of enormous value to passengers.\n",
        "\n",
        "### DATASET\n",
        "\n",
        "Dataset contains information about flight booking options from the website Easemytrip for flight travel between India's top 6 metro cities. There are **300,261** datapoints and **11** features in the cleaned dataset.\n",
        "\n",
        "### FEATURES\n",
        "\n",
        "The various features of the cleaned dataset are explained below:\n",
        "\n",
        "1. Airline: The name of the airline company is stored in the airline column. It is a categorical feature having 6 different airlines.\n",
        "2. Flight: Flight stores information regarding the plane's flight code. It is a categorical feature.\n",
        "3. Source City: City from which the flight takes off. It is a categorical feature having 6 unique cities.\n",
        "4. Departure Time: This is a derived categorical feature obtained created by grouping time periods into bins. It stores information about the departure time and have 6 unique time labels.\n",
        "5. Stops: A categorical feature with 3 distinct values that stores the number of stops between the source and destination cities.\n",
        "6. Arrival Time: This is a derived categorical feature created by grouping time intervals into bins. It has six distinct time labels and keeps information about the arrival time.\n",
        "7. Destination City: City where the flight will land. It is a categorical feature having 6 unique cities.\n",
        "8. Class: A categorical feature that contains information on seat class; it has two distinct values: Business and Economy.\n",
        "9. Duration: A continuous feature that displays the overall amount of time it takes to travel between cities in hours.\n",
        "10. Days Left: This is a derived characteristic that is calculated by subtracting the trip date by the booking date.\n",
        "11. Price: Target variable stores information of the ticket price."
      ],
      "metadata": {
        "id": "xTwZWlpzoDEt"
      }
    },
    {
      "cell_type": "markdown",
      "source": [
        "In this notebook we will explore Supervised Machine Learning methods. Regression models such as linear regression, decision tree and ensemble models such as RandomForest will be trained to predict flight prices using **Scikit Learn**.  We will use **Pandas**, **Numpy**, **Matplotlib** and **Seaborn** to perform exploratory data analysis and gather insights for machine learning. We will do the following\n",
        "\n",
        "- Install and Import libraries\n",
        "- Exploring the dataset and merge different files as required\n",
        "- Translate the business problem to a machine learning problem\n",
        "- EDA - exploratory data analysis\n",
        "- Feature Engineering\n",
        "- Data preparation - Train Val Split, Encoding, Imputing and Scaling\n",
        "- Select input features\n",
        "- Define evaluation metrics\n",
        "- Define baseline model\n",
        "- Select best model without hyperparameter tuning\n",
        "- Hyperparameter tuning for select models\n",
        "- Make predictions\n",
        "- Save the best model\n",
        "- Summarise insights and learning"
      ],
      "metadata": {
        "id": "voe_CemhCkQV"
      }
    },
    {
      "cell_type": "markdown",
      "metadata": {
        "id": "hL2-_gfGuUFY"
      },
      "source": [
        "# Downloading Dataset"
      ]
    },
    {
      "cell_type": "code",
      "execution_count": 1,
      "metadata": {
        "id": "92_6SPnOvKB7"
      },
      "outputs": [],
      "source": [
        "#Importing required Libraries\n",
        "import pandas as pd\n",
        "import numpy as np\n",
        "import seaborn as sns\n",
        "import matplotlib.pyplot as plt\n"
      ]
    },
    {
      "cell_type": "markdown",
      "source": [
        "[**Opendatasets**](https://github.com/JovianML/opendatasets)\n",
        "\n",
        "`opendatasets` is a Python library for downloading datasets from online sources like Kaggle and Google Drive using a simple Python command."
      ],
      "metadata": {
        "id": "xCyL260Lu31o"
      }
    },
    {
      "cell_type": "code",
      "execution_count": 2,
      "metadata": {
        "id": "ygrFL87UrOHP"
      },
      "outputs": [],
      "source": [
        "!pip install opendatasets --upgrade --quiet"
      ]
    },
    {
      "cell_type": "code",
      "execution_count": 3,
      "metadata": {
        "colab": {
          "base_uri": "https://localhost:8080/"
        },
        "id": "l0JO5RWLsBZz",
        "outputId": "6bae0bd1-677f-49fe-fc26-30a071a13adf"
      },
      "outputs": [
        {
          "output_type": "stream",
          "name": "stdout",
          "text": [
            "Please provide your Kaggle credentials to download this dataset. Learn more: http://bit.ly/kaggle-creds\n",
            "Your Kaggle username: syedazzaamahmed\n",
            "Your Kaggle Key: ··········\n",
            "Downloading flight-price-prediction.zip to ./flight-price-prediction\n"
          ]
        },
        {
          "output_type": "stream",
          "name": "stderr",
          "text": [
            "100%|██████████| 4.16M/4.16M [00:01<00:00, 3.54MB/s]\n"
          ]
        },
        {
          "output_type": "stream",
          "name": "stdout",
          "text": [
            "\n"
          ]
        }
      ],
      "source": [
        "import opendatasets as od\n",
        "datasets_url = ('https://www.kaggle.com/datasets/shubhambathwal/flight-price-prediction?datasetId=1957837')\n",
        "od.download('https://www.kaggle.com/datasets/shubhambathwal/flight-price-prediction?datasetId=1957837')"
      ]
    },
    {
      "cell_type": "code",
      "execution_count": 4,
      "metadata": {
        "id": "qoBv1x4uuT9X"
      },
      "outputs": [],
      "source": [
        "data_filename = ('./flight-price-prediction/Clean_Dataset.csv')"
      ]
    },
    {
      "cell_type": "code",
      "execution_count": 5,
      "metadata": {
        "id": "bvgTC4IHvEra"
      },
      "outputs": [],
      "source": [
        "#Reading the CSV file\n",
        "df = pd.read_csv(data_filename) "
      ]
    },
    {
      "cell_type": "code",
      "source": [
        "df.shape #Shape of the dataset. This dataset has 300,153 rows and 12 columns"
      ],
      "metadata": {
        "colab": {
          "base_uri": "https://localhost:8080/"
        },
        "id": "J7y2R-NGv5L5",
        "outputId": "e81695a8-a697-4d86-fac0-ac61dcf661d8"
      },
      "execution_count": 6,
      "outputs": [
        {
          "output_type": "execute_result",
          "data": {
            "text/plain": [
              "(300153, 12)"
            ]
          },
          "metadata": {},
          "execution_count": 6
        }
      ]
    },
    {
      "cell_type": "code",
      "execution_count": null,
      "metadata": {
        "colab": {
          "base_uri": "https://localhost:8080/",
          "height": 206
        },
        "id": "CNsS77u7vUH-",
        "outputId": "0baf4c17-7f4c-4042-c5a9-2fa84ca55bd7"
      },
      "outputs": [
        {
          "output_type": "execute_result",
          "data": {
            "text/plain": [
              "   Unnamed: 0   airline   flight source_city departure_time stops  \\\n",
              "0           0  SpiceJet  SG-8709       Delhi        Evening  zero   \n",
              "1           1  SpiceJet  SG-8157       Delhi  Early_Morning  zero   \n",
              "2           2   AirAsia   I5-764       Delhi  Early_Morning  zero   \n",
              "3           3   Vistara   UK-995       Delhi        Morning  zero   \n",
              "4           4   Vistara   UK-963       Delhi        Morning  zero   \n",
              "\n",
              "    arrival_time destination_city    class  duration  days_left  price  \n",
              "0          Night           Mumbai  Economy      2.17          1   5953  \n",
              "1        Morning           Mumbai  Economy      2.33          1   5953  \n",
              "2  Early_Morning           Mumbai  Economy      2.17          1   5956  \n",
              "3      Afternoon           Mumbai  Economy      2.25          1   5955  \n",
              "4        Morning           Mumbai  Economy      2.33          1   5955  "
            ],
            "text/html": [
              "\n",
              "  <div id=\"df-e7235522-5785-437b-b06a-9395eee03c3e\">\n",
              "    <div class=\"colab-df-container\">\n",
              "      <div>\n",
              "<style scoped>\n",
              "    .dataframe tbody tr th:only-of-type {\n",
              "        vertical-align: middle;\n",
              "    }\n",
              "\n",
              "    .dataframe tbody tr th {\n",
              "        vertical-align: top;\n",
              "    }\n",
              "\n",
              "    .dataframe thead th {\n",
              "        text-align: right;\n",
              "    }\n",
              "</style>\n",
              "<table border=\"1\" class=\"dataframe\">\n",
              "  <thead>\n",
              "    <tr style=\"text-align: right;\">\n",
              "      <th></th>\n",
              "      <th>Unnamed: 0</th>\n",
              "      <th>airline</th>\n",
              "      <th>flight</th>\n",
              "      <th>source_city</th>\n",
              "      <th>departure_time</th>\n",
              "      <th>stops</th>\n",
              "      <th>arrival_time</th>\n",
              "      <th>destination_city</th>\n",
              "      <th>class</th>\n",
              "      <th>duration</th>\n",
              "      <th>days_left</th>\n",
              "      <th>price</th>\n",
              "    </tr>\n",
              "  </thead>\n",
              "  <tbody>\n",
              "    <tr>\n",
              "      <th>0</th>\n",
              "      <td>0</td>\n",
              "      <td>SpiceJet</td>\n",
              "      <td>SG-8709</td>\n",
              "      <td>Delhi</td>\n",
              "      <td>Evening</td>\n",
              "      <td>zero</td>\n",
              "      <td>Night</td>\n",
              "      <td>Mumbai</td>\n",
              "      <td>Economy</td>\n",
              "      <td>2.17</td>\n",
              "      <td>1</td>\n",
              "      <td>5953</td>\n",
              "    </tr>\n",
              "    <tr>\n",
              "      <th>1</th>\n",
              "      <td>1</td>\n",
              "      <td>SpiceJet</td>\n",
              "      <td>SG-8157</td>\n",
              "      <td>Delhi</td>\n",
              "      <td>Early_Morning</td>\n",
              "      <td>zero</td>\n",
              "      <td>Morning</td>\n",
              "      <td>Mumbai</td>\n",
              "      <td>Economy</td>\n",
              "      <td>2.33</td>\n",
              "      <td>1</td>\n",
              "      <td>5953</td>\n",
              "    </tr>\n",
              "    <tr>\n",
              "      <th>2</th>\n",
              "      <td>2</td>\n",
              "      <td>AirAsia</td>\n",
              "      <td>I5-764</td>\n",
              "      <td>Delhi</td>\n",
              "      <td>Early_Morning</td>\n",
              "      <td>zero</td>\n",
              "      <td>Early_Morning</td>\n",
              "      <td>Mumbai</td>\n",
              "      <td>Economy</td>\n",
              "      <td>2.17</td>\n",
              "      <td>1</td>\n",
              "      <td>5956</td>\n",
              "    </tr>\n",
              "    <tr>\n",
              "      <th>3</th>\n",
              "      <td>3</td>\n",
              "      <td>Vistara</td>\n",
              "      <td>UK-995</td>\n",
              "      <td>Delhi</td>\n",
              "      <td>Morning</td>\n",
              "      <td>zero</td>\n",
              "      <td>Afternoon</td>\n",
              "      <td>Mumbai</td>\n",
              "      <td>Economy</td>\n",
              "      <td>2.25</td>\n",
              "      <td>1</td>\n",
              "      <td>5955</td>\n",
              "    </tr>\n",
              "    <tr>\n",
              "      <th>4</th>\n",
              "      <td>4</td>\n",
              "      <td>Vistara</td>\n",
              "      <td>UK-963</td>\n",
              "      <td>Delhi</td>\n",
              "      <td>Morning</td>\n",
              "      <td>zero</td>\n",
              "      <td>Morning</td>\n",
              "      <td>Mumbai</td>\n",
              "      <td>Economy</td>\n",
              "      <td>2.33</td>\n",
              "      <td>1</td>\n",
              "      <td>5955</td>\n",
              "    </tr>\n",
              "  </tbody>\n",
              "</table>\n",
              "</div>\n",
              "      <button class=\"colab-df-convert\" onclick=\"convertToInteractive('df-e7235522-5785-437b-b06a-9395eee03c3e')\"\n",
              "              title=\"Convert this dataframe to an interactive table.\"\n",
              "              style=\"display:none;\">\n",
              "        \n",
              "  <svg xmlns=\"http://www.w3.org/2000/svg\" height=\"24px\"viewBox=\"0 0 24 24\"\n",
              "       width=\"24px\">\n",
              "    <path d=\"M0 0h24v24H0V0z\" fill=\"none\"/>\n",
              "    <path d=\"M18.56 5.44l.94 2.06.94-2.06 2.06-.94-2.06-.94-.94-2.06-.94 2.06-2.06.94zm-11 1L8.5 8.5l.94-2.06 2.06-.94-2.06-.94L8.5 2.5l-.94 2.06-2.06.94zm10 10l.94 2.06.94-2.06 2.06-.94-2.06-.94-.94-2.06-.94 2.06-2.06.94z\"/><path d=\"M17.41 7.96l-1.37-1.37c-.4-.4-.92-.59-1.43-.59-.52 0-1.04.2-1.43.59L10.3 9.45l-7.72 7.72c-.78.78-.78 2.05 0 2.83L4 21.41c.39.39.9.59 1.41.59.51 0 1.02-.2 1.41-.59l7.78-7.78 2.81-2.81c.8-.78.8-2.07 0-2.86zM5.41 20L4 18.59l7.72-7.72 1.47 1.35L5.41 20z\"/>\n",
              "  </svg>\n",
              "      </button>\n",
              "      \n",
              "  <style>\n",
              "    .colab-df-container {\n",
              "      display:flex;\n",
              "      flex-wrap:wrap;\n",
              "      gap: 12px;\n",
              "    }\n",
              "\n",
              "    .colab-df-convert {\n",
              "      background-color: #E8F0FE;\n",
              "      border: none;\n",
              "      border-radius: 50%;\n",
              "      cursor: pointer;\n",
              "      display: none;\n",
              "      fill: #1967D2;\n",
              "      height: 32px;\n",
              "      padding: 0 0 0 0;\n",
              "      width: 32px;\n",
              "    }\n",
              "\n",
              "    .colab-df-convert:hover {\n",
              "      background-color: #E2EBFA;\n",
              "      box-shadow: 0px 1px 2px rgba(60, 64, 67, 0.3), 0px 1px 3px 1px rgba(60, 64, 67, 0.15);\n",
              "      fill: #174EA6;\n",
              "    }\n",
              "\n",
              "    [theme=dark] .colab-df-convert {\n",
              "      background-color: #3B4455;\n",
              "      fill: #D2E3FC;\n",
              "    }\n",
              "\n",
              "    [theme=dark] .colab-df-convert:hover {\n",
              "      background-color: #434B5C;\n",
              "      box-shadow: 0px 1px 3px 1px rgba(0, 0, 0, 0.15);\n",
              "      filter: drop-shadow(0px 1px 2px rgba(0, 0, 0, 0.3));\n",
              "      fill: #FFFFFF;\n",
              "    }\n",
              "  </style>\n",
              "\n",
              "      <script>\n",
              "        const buttonEl =\n",
              "          document.querySelector('#df-e7235522-5785-437b-b06a-9395eee03c3e button.colab-df-convert');\n",
              "        buttonEl.style.display =\n",
              "          google.colab.kernel.accessAllowed ? 'block' : 'none';\n",
              "\n",
              "        async function convertToInteractive(key) {\n",
              "          const element = document.querySelector('#df-e7235522-5785-437b-b06a-9395eee03c3e');\n",
              "          const dataTable =\n",
              "            await google.colab.kernel.invokeFunction('convertToInteractive',\n",
              "                                                     [key], {});\n",
              "          if (!dataTable) return;\n",
              "\n",
              "          const docLinkHtml = 'Like what you see? Visit the ' +\n",
              "            '<a target=\"_blank\" href=https://colab.research.google.com/notebooks/data_table.ipynb>data table notebook</a>'\n",
              "            + ' to learn more about interactive tables.';\n",
              "          element.innerHTML = '';\n",
              "          dataTable['output_type'] = 'display_data';\n",
              "          await google.colab.output.renderOutput(dataTable, element);\n",
              "          const docLink = document.createElement('div');\n",
              "          docLink.innerHTML = docLinkHtml;\n",
              "          element.appendChild(docLink);\n",
              "        }\n",
              "      </script>\n",
              "    </div>\n",
              "  </div>\n",
              "  "
            ]
          },
          "metadata": {},
          "execution_count": 7
        }
      ],
      "source": [
        "df.head()"
      ]
    },
    {
      "cell_type": "code",
      "execution_count": 6,
      "metadata": {
        "id": "uGXp-y5pvxoo"
      },
      "outputs": [],
      "source": [
        "#Dropping useless column\n",
        "df = df.drop('Unnamed: 0',axis = 1)"
      ]
    },
    {
      "cell_type": "code",
      "execution_count": 7,
      "metadata": {
        "colab": {
          "base_uri": "https://localhost:8080/",
          "height": 206
        },
        "id": "axAXyhhIv_rq",
        "outputId": "83bc41e7-0921-4c59-9fac-b4aca58db4cc"
      },
      "outputs": [
        {
          "output_type": "execute_result",
          "data": {
            "text/plain": [
              "    airline   flight source_city departure_time stops   arrival_time  \\\n",
              "0  SpiceJet  SG-8709       Delhi        Evening  zero          Night   \n",
              "1  SpiceJet  SG-8157       Delhi  Early_Morning  zero        Morning   \n",
              "2   AirAsia   I5-764       Delhi  Early_Morning  zero  Early_Morning   \n",
              "3   Vistara   UK-995       Delhi        Morning  zero      Afternoon   \n",
              "4   Vistara   UK-963       Delhi        Morning  zero        Morning   \n",
              "\n",
              "  destination_city    class  duration  days_left  price  \n",
              "0           Mumbai  Economy      2.17          1   5953  \n",
              "1           Mumbai  Economy      2.33          1   5953  \n",
              "2           Mumbai  Economy      2.17          1   5956  \n",
              "3           Mumbai  Economy      2.25          1   5955  \n",
              "4           Mumbai  Economy      2.33          1   5955  "
            ],
            "text/html": [
              "\n",
              "  <div id=\"df-8dea3e4d-4fb9-4754-afd7-2905d12115a1\">\n",
              "    <div class=\"colab-df-container\">\n",
              "      <div>\n",
              "<style scoped>\n",
              "    .dataframe tbody tr th:only-of-type {\n",
              "        vertical-align: middle;\n",
              "    }\n",
              "\n",
              "    .dataframe tbody tr th {\n",
              "        vertical-align: top;\n",
              "    }\n",
              "\n",
              "    .dataframe thead th {\n",
              "        text-align: right;\n",
              "    }\n",
              "</style>\n",
              "<table border=\"1\" class=\"dataframe\">\n",
              "  <thead>\n",
              "    <tr style=\"text-align: right;\">\n",
              "      <th></th>\n",
              "      <th>airline</th>\n",
              "      <th>flight</th>\n",
              "      <th>source_city</th>\n",
              "      <th>departure_time</th>\n",
              "      <th>stops</th>\n",
              "      <th>arrival_time</th>\n",
              "      <th>destination_city</th>\n",
              "      <th>class</th>\n",
              "      <th>duration</th>\n",
              "      <th>days_left</th>\n",
              "      <th>price</th>\n",
              "    </tr>\n",
              "  </thead>\n",
              "  <tbody>\n",
              "    <tr>\n",
              "      <th>0</th>\n",
              "      <td>SpiceJet</td>\n",
              "      <td>SG-8709</td>\n",
              "      <td>Delhi</td>\n",
              "      <td>Evening</td>\n",
              "      <td>zero</td>\n",
              "      <td>Night</td>\n",
              "      <td>Mumbai</td>\n",
              "      <td>Economy</td>\n",
              "      <td>2.17</td>\n",
              "      <td>1</td>\n",
              "      <td>5953</td>\n",
              "    </tr>\n",
              "    <tr>\n",
              "      <th>1</th>\n",
              "      <td>SpiceJet</td>\n",
              "      <td>SG-8157</td>\n",
              "      <td>Delhi</td>\n",
              "      <td>Early_Morning</td>\n",
              "      <td>zero</td>\n",
              "      <td>Morning</td>\n",
              "      <td>Mumbai</td>\n",
              "      <td>Economy</td>\n",
              "      <td>2.33</td>\n",
              "      <td>1</td>\n",
              "      <td>5953</td>\n",
              "    </tr>\n",
              "    <tr>\n",
              "      <th>2</th>\n",
              "      <td>AirAsia</td>\n",
              "      <td>I5-764</td>\n",
              "      <td>Delhi</td>\n",
              "      <td>Early_Morning</td>\n",
              "      <td>zero</td>\n",
              "      <td>Early_Morning</td>\n",
              "      <td>Mumbai</td>\n",
              "      <td>Economy</td>\n",
              "      <td>2.17</td>\n",
              "      <td>1</td>\n",
              "      <td>5956</td>\n",
              "    </tr>\n",
              "    <tr>\n",
              "      <th>3</th>\n",
              "      <td>Vistara</td>\n",
              "      <td>UK-995</td>\n",
              "      <td>Delhi</td>\n",
              "      <td>Morning</td>\n",
              "      <td>zero</td>\n",
              "      <td>Afternoon</td>\n",
              "      <td>Mumbai</td>\n",
              "      <td>Economy</td>\n",
              "      <td>2.25</td>\n",
              "      <td>1</td>\n",
              "      <td>5955</td>\n",
              "    </tr>\n",
              "    <tr>\n",
              "      <th>4</th>\n",
              "      <td>Vistara</td>\n",
              "      <td>UK-963</td>\n",
              "      <td>Delhi</td>\n",
              "      <td>Morning</td>\n",
              "      <td>zero</td>\n",
              "      <td>Morning</td>\n",
              "      <td>Mumbai</td>\n",
              "      <td>Economy</td>\n",
              "      <td>2.33</td>\n",
              "      <td>1</td>\n",
              "      <td>5955</td>\n",
              "    </tr>\n",
              "  </tbody>\n",
              "</table>\n",
              "</div>\n",
              "      <button class=\"colab-df-convert\" onclick=\"convertToInteractive('df-8dea3e4d-4fb9-4754-afd7-2905d12115a1')\"\n",
              "              title=\"Convert this dataframe to an interactive table.\"\n",
              "              style=\"display:none;\">\n",
              "        \n",
              "  <svg xmlns=\"http://www.w3.org/2000/svg\" height=\"24px\"viewBox=\"0 0 24 24\"\n",
              "       width=\"24px\">\n",
              "    <path d=\"M0 0h24v24H0V0z\" fill=\"none\"/>\n",
              "    <path d=\"M18.56 5.44l.94 2.06.94-2.06 2.06-.94-2.06-.94-.94-2.06-.94 2.06-2.06.94zm-11 1L8.5 8.5l.94-2.06 2.06-.94-2.06-.94L8.5 2.5l-.94 2.06-2.06.94zm10 10l.94 2.06.94-2.06 2.06-.94-2.06-.94-.94-2.06-.94 2.06-2.06.94z\"/><path d=\"M17.41 7.96l-1.37-1.37c-.4-.4-.92-.59-1.43-.59-.52 0-1.04.2-1.43.59L10.3 9.45l-7.72 7.72c-.78.78-.78 2.05 0 2.83L4 21.41c.39.39.9.59 1.41.59.51 0 1.02-.2 1.41-.59l7.78-7.78 2.81-2.81c.8-.78.8-2.07 0-2.86zM5.41 20L4 18.59l7.72-7.72 1.47 1.35L5.41 20z\"/>\n",
              "  </svg>\n",
              "      </button>\n",
              "      \n",
              "  <style>\n",
              "    .colab-df-container {\n",
              "      display:flex;\n",
              "      flex-wrap:wrap;\n",
              "      gap: 12px;\n",
              "    }\n",
              "\n",
              "    .colab-df-convert {\n",
              "      background-color: #E8F0FE;\n",
              "      border: none;\n",
              "      border-radius: 50%;\n",
              "      cursor: pointer;\n",
              "      display: none;\n",
              "      fill: #1967D2;\n",
              "      height: 32px;\n",
              "      padding: 0 0 0 0;\n",
              "      width: 32px;\n",
              "    }\n",
              "\n",
              "    .colab-df-convert:hover {\n",
              "      background-color: #E2EBFA;\n",
              "      box-shadow: 0px 1px 2px rgba(60, 64, 67, 0.3), 0px 1px 3px 1px rgba(60, 64, 67, 0.15);\n",
              "      fill: #174EA6;\n",
              "    }\n",
              "\n",
              "    [theme=dark] .colab-df-convert {\n",
              "      background-color: #3B4455;\n",
              "      fill: #D2E3FC;\n",
              "    }\n",
              "\n",
              "    [theme=dark] .colab-df-convert:hover {\n",
              "      background-color: #434B5C;\n",
              "      box-shadow: 0px 1px 3px 1px rgba(0, 0, 0, 0.15);\n",
              "      filter: drop-shadow(0px 1px 2px rgba(0, 0, 0, 0.3));\n",
              "      fill: #FFFFFF;\n",
              "    }\n",
              "  </style>\n",
              "\n",
              "      <script>\n",
              "        const buttonEl =\n",
              "          document.querySelector('#df-8dea3e4d-4fb9-4754-afd7-2905d12115a1 button.colab-df-convert');\n",
              "        buttonEl.style.display =\n",
              "          google.colab.kernel.accessAllowed ? 'block' : 'none';\n",
              "\n",
              "        async function convertToInteractive(key) {\n",
              "          const element = document.querySelector('#df-8dea3e4d-4fb9-4754-afd7-2905d12115a1');\n",
              "          const dataTable =\n",
              "            await google.colab.kernel.invokeFunction('convertToInteractive',\n",
              "                                                     [key], {});\n",
              "          if (!dataTable) return;\n",
              "\n",
              "          const docLinkHtml = 'Like what you see? Visit the ' +\n",
              "            '<a target=\"_blank\" href=https://colab.research.google.com/notebooks/data_table.ipynb>data table notebook</a>'\n",
              "            + ' to learn more about interactive tables.';\n",
              "          element.innerHTML = '';\n",
              "          dataTable['output_type'] = 'display_data';\n",
              "          await google.colab.output.renderOutput(dataTable, element);\n",
              "          const docLink = document.createElement('div');\n",
              "          docLink.innerHTML = docLinkHtml;\n",
              "          element.appendChild(docLink);\n",
              "        }\n",
              "      </script>\n",
              "    </div>\n",
              "  </div>\n",
              "  "
            ]
          },
          "metadata": {},
          "execution_count": 7
        }
      ],
      "source": [
        "df.head()"
      ]
    },
    {
      "cell_type": "code",
      "source": [
        "df.columns #Viewing all the columns of the dataset"
      ],
      "metadata": {
        "colab": {
          "base_uri": "https://localhost:8080/"
        },
        "id": "FbLt6m-VwpVi",
        "outputId": "750f168f-f92a-4759-f5c4-c519d2473ce6"
      },
      "execution_count": null,
      "outputs": [
        {
          "output_type": "execute_result",
          "data": {
            "text/plain": [
              "Index(['airline', 'flight', 'source_city', 'departure_time', 'stops',\n",
              "       'arrival_time', 'destination_city', 'class', 'duration', 'days_left',\n",
              "       'price'],\n",
              "      dtype='object')"
            ]
          },
          "metadata": {},
          "execution_count": 10
        }
      ]
    },
    {
      "cell_type": "code",
      "execution_count": null,
      "metadata": {
        "colab": {
          "base_uri": "https://localhost:8080/"
        },
        "id": "jlZ3Rdo7wEDP",
        "outputId": "e6b38b35-46b0-405f-8eeb-006b9f470ec3"
      },
      "outputs": [
        {
          "output_type": "stream",
          "name": "stdout",
          "text": [
            "<class 'pandas.core.frame.DataFrame'>\n",
            "RangeIndex: 300153 entries, 0 to 300152\n",
            "Data columns (total 11 columns):\n",
            " #   Column            Non-Null Count   Dtype  \n",
            "---  ------            --------------   -----  \n",
            " 0   airline           300153 non-null  object \n",
            " 1   flight            300153 non-null  object \n",
            " 2   source_city       300153 non-null  object \n",
            " 3   departure_time    300153 non-null  object \n",
            " 4   stops             300153 non-null  object \n",
            " 5   arrival_time      300153 non-null  object \n",
            " 6   destination_city  300153 non-null  object \n",
            " 7   class             300153 non-null  object \n",
            " 8   duration          300153 non-null  float64\n",
            " 9   days_left         300153 non-null  int64  \n",
            " 10  price             300153 non-null  int64  \n",
            "dtypes: float64(1), int64(2), object(8)\n",
            "memory usage: 25.2+ MB\n"
          ]
        }
      ],
      "source": [
        "df.info() #info() gives us the information about the shape, datatype and memory usage."
      ]
    },
    {
      "cell_type": "markdown",
      "metadata": {
        "id": "VT440vpGz9R-"
      },
      "source": [
        "# Exploratory Data Analysis"
      ]
    },
    {
      "cell_type": "code",
      "execution_count": null,
      "metadata": {
        "colab": {
          "base_uri": "https://localhost:8080/",
          "height": 412
        },
        "id": "pr-vQRaN1ByQ",
        "outputId": "f75c6d57-ecb5-445a-9acd-4e83a2e6e8c9"
      },
      "outputs": [
        {
          "output_type": "display_data",
          "data": {
            "text/plain": [
              "<Figure size 720x432 with 1 Axes>"
            ],
            "image/png": "[encoded data removed]"
          },
          "metadata": {
            "needs_background": "light"
          }
        }
      ],
      "source": [
        "plt.figure(figsize=(10,6))\n",
        "sns.countplot(x='airline',data=df)\n",
        "plt.title('Flights Count of Different Airlines',fontsize=15)\n",
        "plt.xlabel('Airline',fontsize=15)\n",
        "plt.ylabel('Count',fontsize=15)\n",
        "plt.show()"
      ]
    },
    {
      "cell_type": "markdown",
      "source": [
        "By the above graph we can clearly see that Vistara Airlines has the highest number of flights compared to all other flights."
      ],
      "metadata": {
        "id": "IFpM7txoxCR4"
      }
    },
    {
      "cell_type": "code",
      "execution_count": null,
      "metadata": {
        "colab": {
          "base_uri": "https://localhost:8080/",
          "height": 424
        },
        "id": "6Elef8911uCY",
        "outputId": "674cc08a-a783-4bde-d0df-010edcab781b"
      },
      "outputs": [
        {
          "output_type": "execute_result",
          "data": {
            "text/plain": [
              "Text(0.5, 0, 'Price in ₹')"
            ]
          },
          "metadata": {},
          "execution_count": 12
        },
        {
          "output_type": "display_data",
          "data": {
            "text/plain": [
              "<Figure size 720x432 with 1 Axes>"
            ],
            "image/png": "[encoded data removed]"
          },
          "metadata": {
            "needs_background": "light"
          }
        }
      ],
      "source": [
        "plt.figure(figsize=(10,6))\n",
        "sns.stripplot(x='price',y='class',data=df)\n",
        "plt.title('Price Comparison between Economy and Business Class',fontsize=15)\n",
        "plt.ylabel('Class')\n",
        "plt.xlabel('Price in ₹')"
      ]
    },
    {
      "cell_type": "markdown",
      "source": [
        "Business class is generally more expensive than economy class. The cost of a business class ticket is usually double or more than an economy class ticket. We can clearly see the difference of prices for business and economy class in the above graph."
      ],
      "metadata": {
        "id": "maQi1ARVxhKt"
      }
    },
    {
      "cell_type": "code",
      "execution_count": null,
      "metadata": {
        "colab": {
          "base_uri": "https://localhost:8080/",
          "height": 406
        },
        "id": "DokmwaAi23yf",
        "outputId": "70cd900e-ad52-4d91-d322-f82b72f31de2"
      },
      "outputs": [
        {
          "output_type": "display_data",
          "data": {
            "text/plain": [
              "<Figure size 720x432 with 1 Axes>"
            ],
            "image/png": "[encoded data removed]"
          },
          "metadata": {
            "needs_background": "light"
          }
        }
      ],
      "source": [
        "plt.figure(figsize=(10,6))\n",
        "sns.boxplot(x='stops',y='price',data=df,palette='pastel')\n",
        "plt.title('Price Comparison based on stops',fontsize=15)\n",
        "plt.xlabel('Stops')\n",
        "plt.ylabel('Price in ₹')\n",
        "plt.show()"
      ]
    },
    {
      "cell_type": "markdown",
      "source": [
        "Generally, the fewer the number of stops, the lower the cost of the flight.\n",
        "\n",
        "Zero Stop: Zero stop flights are the most direct, and typically the cheapest. Prices for zero stop flights are generally low comparable to those of one stop flights.\n",
        "\n",
        "One Stop: One stop flights tend to be slightly more expensive than zero stop flights, but still offer great value for money. Prices for one stop flights may be slightly higher due to additional airport fees and taxes.\n",
        "\n",
        "Two or More Stops: Prices for flights with two or more stops are hihgly fluctuating and also depends on airline, route, time and many factors."
      ],
      "metadata": {
        "id": "eUgbbPtHsDyd"
      }
    },
    {
      "cell_type": "code",
      "execution_count": null,
      "metadata": {
        "colab": {
          "base_uri": "https://localhost:8080/",
          "height": 418
        },
        "id": "2sdlw7k-U-H9",
        "outputId": "1c1fed38-120c-4f47-bf34-5b8bb35e6719"
      },
      "outputs": [
        {
          "output_type": "execute_result",
          "data": {
            "text/plain": [
              "Text(0.5, 1.0, 'Price Comparison on Departure time')"
            ]
          },
          "metadata": {},
          "execution_count": 14
        },
        {
          "output_type": "display_data",
          "data": {
            "text/plain": [
              "<Figure size 720x360 with 1 Axes>"
            ],
            "image/png": "[encoded data removed]"
          },
          "metadata": {
            "needs_background": "light"
          }
        }
      ],
      "source": [
        "plt.figure(figsize=(10,5))\n",
        "sns.boxplot(x='departure_time',notch= True,y='price',data=df).tick_params(axis='x', rotation=45)\n",
        "plt.title('Price Comparison on Departure time',fontsize=15)"
      ]
    },
    {
      "cell_type": "markdown",
      "source": [
        "Late-night flights are usually cheaper than flights departing during the day. Airlines typically offer special discounts on flights that depart late at night. This is because these flights have fewer passengers, allowing airlines to offer lower prices. Additionally, airlines may offer discounted fares to fill up empty seats on late-night flights."
      ],
      "metadata": {
        "id": "gmCMvR6SuFSf"
      }
    },
    {
      "cell_type": "code",
      "execution_count": null,
      "metadata": {
        "colab": {
          "base_uri": "https://localhost:8080/",
          "height": 418
        },
        "id": "6ST5sQCOV3u5",
        "outputId": "e4593052-7b4d-4efd-f31e-008c3c4b4966"
      },
      "outputs": [
        {
          "output_type": "execute_result",
          "data": {
            "text/plain": [
              "Text(0.5, 1.0, 'Price Comparison on Arrival time')"
            ]
          },
          "metadata": {},
          "execution_count": 15
        },
        {
          "output_type": "display_data",
          "data": {
            "text/plain": [
              "<Figure size 720x360 with 1 Axes>"
            ],
            "image/png": "[encoded data removed]"
          },
          "metadata": {
            "needs_background": "light"
          }
        }
      ],
      "source": [
        "plt.figure(figsize=(10,5))\n",
        "sns.boxplot(x='arrival_time',notch= True,y='price',data=df).tick_params(axis='x', rotation=45)\n",
        "plt.title('Price Comparison on Arrival time',fontsize=15)\n"
      ]
    },
    {
      "cell_type": "markdown",
      "source": [
        "Flight prices comparison based on arrival time will show that late night and early morning flights are usually cheaper due to lower demand for these times. Airlines are also more likely to offer discounts for flights at off-peak times in order to fill seats."
      ],
      "metadata": {
        "id": "tET3bhGFu23H"
      }
    },
    {
      "cell_type": "code",
      "execution_count": null,
      "metadata": {
        "colab": {
          "base_uri": "https://localhost:8080/",
          "height": 463
        },
        "id": "zWExI-ga3fYo",
        "outputId": "cb489edb-d9fa-4d7b-d334-b78b0abf0308"
      },
      "outputs": [
        {
          "output_type": "stream",
          "name": "stderr",
          "text": [
            "/usr/local/lib/python3.7/dist-packages/seaborn/_decorators.py:43: FutureWarning: Pass the following variables as keyword args: x, y. From version 0.12, the only valid positional argument will be `data`, and passing other arguments without an explicit keyword will result in an error or misinterpretation.\n",
            "  FutureWarning\n"
          ]
        },
        {
          "output_type": "display_data",
          "data": {
            "text/plain": [
              "<Figure size 1080x432 with 1 Axes>"
            ],
            "image/png": "[encoded data removed]"
          },
          "metadata": {
            "needs_background": "light"
          }
        }
      ],
      "source": [
        "plt.figure(figsize=(15,6))\n",
        "sns.scatterplot(df['duration'],df['price'],hue=df['airline'])\n",
        "plt.title('Price Comparison',fontsize=15)\n",
        "plt.xlabel('Duration')\n",
        "plt.ylabel('Price in ₹')\n",
        "plt.show()"
      ]
    },
    {
      "cell_type": "markdown",
      "source": [
        "Vistara is typically more expensive than other airlines due to its higher quality of service and additional amenities. Vistara is known for providing a more comfortable in-flight experience, with larger seats, more legroom, and better entertainment options. However, that doesn't mean that Vistara is always the most expensive option."
      ],
      "metadata": {
        "id": "03LTn6LXv9x5"
      }
    },
    {
      "cell_type": "code",
      "execution_count": null,
      "metadata": {
        "colab": {
          "base_uri": "https://localhost:8080/",
          "height": 619
        },
        "id": "e6Etcdg7TlvI",
        "outputId": "b3d055cd-2445-4ca6-80a2-4b784959383e"
      },
      "outputs": [
        {
          "output_type": "execute_result",
          "data": {
            "text/plain": [
              "Text(0.5, 1.0, 'Flight Price Distribution Plot')"
            ]
          },
          "metadata": {},
          "execution_count": 17
        },
        {
          "output_type": "display_data",
          "data": {
            "text/plain": [
              "<Figure size 948.25x576 with 1 Axes>"
            ],
            "image/png": "[encoded data removed]"
          },
          "metadata": {
            "needs_background": "light"
          }
        }
      ],
      "source": [
        "sns.displot(x=\"price\", hue=\"airline\", kind=\"kde\",\n",
        "            multiple=\"stack\",data=df,height=8, aspect=15/10)\n",
        "plt.title('Flight Price Distribution Plot')"
      ]
    },
    {
      "cell_type": "markdown",
      "source": [
        "Generally, domestic flights within India are relatively affordable, and you can often find Economy Class tickets for under 5,000 rupees. However, if you are traveling during peak season or on a popular route, you may need to pay more. The most expensive domestic flights within India can cost up to 15,000 rupees or more."
      ],
      "metadata": {
        "id": "0Qn-QM20xbGg"
      }
    },
    {
      "cell_type": "code",
      "execution_count": null,
      "metadata": {
        "colab": {
          "base_uri": "https://localhost:8080/",
          "height": 425
        },
        "id": "3Q0bb4NrUcxw",
        "outputId": "0aa05cba-189c-4667-b5fe-a255e20295c4"
      },
      "outputs": [
        {
          "output_type": "execute_result",
          "data": {
            "text/plain": [
              "Text(0.5, 1.0, 'Average prizes depending on the days left')"
            ]
          },
          "metadata": {},
          "execution_count": 18
        },
        {
          "output_type": "display_data",
          "data": {
            "text/plain": [
              "<Figure size 1080x432 with 1 Axes>"
            ],
            "image/png": "[encoded data removed]"
          },
          "metadata": {
            "needs_background": "light"
          }
        }
      ],
      "source": [
        "df_rem = df.groupby(['days_left'])['price'].mean().reset_index()\n",
        "\n",
        "plt.figure(figsize=(15,6))\n",
        "sns.scatterplot(x=\"days_left\", y=\"price\", data=df_rem).set_title(\"Average prizes depending on the days left\",fontsize=15)"
      ]
    },
    {
      "cell_type": "markdown",
      "source": [
        "The closer the departure date, the higher the flight price. As the departure date approaches, airlines raise prices because the seats are more in demand and there are fewer seats left on the plane. For example, if a flight is departing within a week, you may find that the price is more expensive than if you had booked the same flight several weeks in advance."
      ],
      "metadata": {
        "id": "eCfjzMJPz0ma"
      }
    },
    {
      "cell_type": "code",
      "execution_count": null,
      "metadata": {
        "colab": {
          "base_uri": "https://localhost:8080/"
        },
        "id": "mHJYcxiAwbtD",
        "outputId": "9be40433-3eb4-41a4-da33-17b027080504"
      },
      "outputs": [
        {
          "output_type": "stream",
          "name": "stdout",
          "text": [
            "<class 'pandas.core.frame.DataFrame'>\n",
            "RangeIndex: 300153 entries, 0 to 300152\n",
            "Data columns (total 11 columns):\n",
            " #   Column            Non-Null Count   Dtype  \n",
            "---  ------            --------------   -----  \n",
            " 0   airline           300153 non-null  object \n",
            " 1   flight            300153 non-null  object \n",
            " 2   source_city       300153 non-null  object \n",
            " 3   departure_time    300153 non-null  object \n",
            " 4   stops             300153 non-null  object \n",
            " 5   arrival_time      300153 non-null  object \n",
            " 6   destination_city  300153 non-null  object \n",
            " 7   class             300153 non-null  object \n",
            " 8   duration          300153 non-null  float64\n",
            " 9   days_left         300153 non-null  int64  \n",
            " 10  price             300153 non-null  int64  \n",
            "dtypes: float64(1), int64(2), object(8)\n",
            "memory usage: 25.2+ MB\n"
          ]
        }
      ],
      "source": [
        "df.info()"
      ]
    },
    {
      "cell_type": "markdown",
      "metadata": {
        "id": "kyGVR0CPrmHx"
      },
      "source": [
        "# Preparing Data For Training"
      ]
    },
    {
      "cell_type": "code",
      "execution_count": 8,
      "metadata": {
        "id": "9ZpvixC8yMte"
      },
      "outputs": [],
      "source": [
        "df = df.drop('flight',axis = 1) # Dropping useless columns"
      ]
    },
    {
      "cell_type": "markdown",
      "metadata": {
        "id": "c3ijxFU5aduG"
      },
      "source": [
        "## Encoding Categorical Data"
      ]
    },
    {
      "cell_type": "markdown",
      "source": [
        "**One Hot Encoding** is suitable for categorical data and is a commonly used method to represent data when building machine learning models. By using one hot encoding, the categorical data is transformed into a vector of binary values. This allows the model to understand the data better and to better differentiate between different categories. It also helps to prevent the model from overfitting or underfitting the data. Lastly, it makes the data easier to process for the model, which can speed up training."
      ],
      "metadata": {
        "id": "FsuhUdrs08Z3"
      }
    },
    {
      "cell_type": "code",
      "execution_count": 9,
      "metadata": {
        "id": "y9rbdmuuxKUM"
      },
      "outputs": [],
      "source": [
        "from sklearn.preprocessing import OneHotEncoder # One Hot Encoding Categorical Data"
      ]
    },
    {
      "cell_type": "code",
      "execution_count": 10,
      "metadata": {
        "id": "3n8GC5dxU7Fw"
      },
      "outputs": [],
      "source": [
        "categorical_cols = ['airline',\t'source_city',\t'departure_time',\t'stops',\t'arrival_time',\t'destination_city',\t'class']"
      ]
    },
    {
      "cell_type": "code",
      "execution_count": 11,
      "metadata": {
        "id": "uNdlzHIThWFK"
      },
      "outputs": [],
      "source": [
        "encoder = OneHotEncoder(sparse=False, handle_unknown='ignore').fit(df[categorical_cols])"
      ]
    },
    {
      "cell_type": "code",
      "execution_count": 12,
      "metadata": {
        "colab": {
          "base_uri": "https://localhost:8080/"
        },
        "id": "u8ntuSx57wHa",
        "outputId": "f17f1400-f393-406b-a99a-1ea828c84495"
      },
      "outputs": [
        {
          "output_type": "stream",
          "name": "stderr",
          "text": [
            "/usr/local/lib/python3.8/dist-packages/sklearn/utils/deprecation.py:87: FutureWarning: Function get_feature_names is deprecated; get_feature_names is deprecated in 1.0 and will be removed in 1.2. Please use get_feature_names_out instead.\n",
            "  warnings.warn(msg, category=FutureWarning)\n"
          ]
        }
      ],
      "source": [
        "encoded_cols = list(encoder.get_feature_names(categorical_cols))"
      ]
    },
    {
      "cell_type": "code",
      "execution_count": 13,
      "metadata": {
        "id": "VDbhnS57VZWd"
      },
      "outputs": [],
      "source": [
        "df[encoded_cols] = encoder.transform(df[categorical_cols])"
      ]
    },
    {
      "cell_type": "code",
      "execution_count": 14,
      "metadata": {
        "id": "nckNhngG5NdJ"
      },
      "outputs": [],
      "source": [
        "df = df.drop(['airline', 'source_city', 'departure_time', 'stops', 'arrival_time','destination_city', 'class',], axis = 1)"
      ]
    },
    {
      "cell_type": "code",
      "execution_count": 15,
      "metadata": {
        "colab": {
          "base_uri": "https://localhost:8080/",
          "height": 0
        },
        "id": "FSSK5-jYN4JJ",
        "outputId": "2e0e83af-bb9e-494a-bb0c-7419aa1e66c7"
      },
      "outputs": [
        {
          "output_type": "execute_result",
          "data": {
            "text/plain": [
              "   duration  days_left  price  airline_AirAsia  airline_Air_India  \\\n",
              "0      2.17          1   5953              0.0                0.0   \n",
              "1      2.33          1   5953              0.0                0.0   \n",
              "2      2.17          1   5956              1.0                0.0   \n",
              "3      2.25          1   5955              0.0                0.0   \n",
              "4      2.33          1   5955              0.0                0.0   \n",
              "\n",
              "   airline_GO_FIRST  airline_Indigo  airline_SpiceJet  airline_Vistara  \\\n",
              "0               0.0             0.0               1.0              0.0   \n",
              "1               0.0             0.0               1.0              0.0   \n",
              "2               0.0             0.0               0.0              0.0   \n",
              "3               0.0             0.0               0.0              1.0   \n",
              "4               0.0             0.0               0.0              1.0   \n",
              "\n",
              "   source_city_Bangalore  ...  arrival_time_Morning  arrival_time_Night  \\\n",
              "0                    0.0  ...                   0.0                 1.0   \n",
              "1                    0.0  ...                   1.0                 0.0   \n",
              "2                    0.0  ...                   0.0                 0.0   \n",
              "3                    0.0  ...                   0.0                 0.0   \n",
              "4                    0.0  ...                   1.0                 0.0   \n",
              "\n",
              "   destination_city_Bangalore  destination_city_Chennai  \\\n",
              "0                         0.0                       0.0   \n",
              "1                         0.0                       0.0   \n",
              "2                         0.0                       0.0   \n",
              "3                         0.0                       0.0   \n",
              "4                         0.0                       0.0   \n",
              "\n",
              "   destination_city_Delhi  destination_city_Hyderabad  \\\n",
              "0                     0.0                         0.0   \n",
              "1                     0.0                         0.0   \n",
              "2                     0.0                         0.0   \n",
              "3                     0.0                         0.0   \n",
              "4                     0.0                         0.0   \n",
              "\n",
              "   destination_city_Kolkata  destination_city_Mumbai  class_Business  \\\n",
              "0                       0.0                      1.0             0.0   \n",
              "1                       0.0                      1.0             0.0   \n",
              "2                       0.0                      1.0             0.0   \n",
              "3                       0.0                      1.0             0.0   \n",
              "4                       0.0                      1.0             0.0   \n",
              "\n",
              "   class_Economy  \n",
              "0            1.0  \n",
              "1            1.0  \n",
              "2            1.0  \n",
              "3            1.0  \n",
              "4            1.0  \n",
              "\n",
              "[5 rows x 38 columns]"
            ],
            "text/html": [
              "\n",
              "  <div id=\"df-36f7a2cb-e84b-4a65-8281-5c6907a9193f\">\n",
              "    <div class=\"colab-df-container\">\n",
              "      <div>\n",
              "<style scoped>\n",
              "    .dataframe tbody tr th:only-of-type {\n",
              "        vertical-align: middle;\n",
              "    }\n",
              "\n",
              "    .dataframe tbody tr th {\n",
              "        vertical-align: top;\n",
              "    }\n",
              "\n",
              "    .dataframe thead th {\n",
              "        text-align: right;\n",
              "    }\n",
              "</style>\n",
              "<table border=\"1\" class=\"dataframe\">\n",
              "  <thead>\n",
              "    <tr style=\"text-align: right;\">\n",
              "      <th></th>\n",
              "      <th>duration</th>\n",
              "      <th>days_left</th>\n",
              "      <th>price</th>\n",
              "      <th>airline_AirAsia</th>\n",
              "      <th>airline_Air_India</th>\n",
              "      <th>airline_GO_FIRST</th>\n",
              "      <th>airline_Indigo</th>\n",
              "      <th>airline_SpiceJet</th>\n",
              "      <th>airline_Vistara</th>\n",
              "      <th>source_city_Bangalore</th>\n",
              "      <th>...</th>\n",
              "      <th>arrival_time_Morning</th>\n",
              "      <th>arrival_time_Night</th>\n",
              "      <th>destination_city_Bangalore</th>\n",
              "      <th>destination_city_Chennai</th>\n",
              "      <th>destination_city_Delhi</th>\n",
              "      <th>destination_city_Hyderabad</th>\n",
              "      <th>destination_city_Kolkata</th>\n",
              "      <th>destination_city_Mumbai</th>\n",
              "      <th>class_Business</th>\n",
              "      <th>class_Economy</th>\n",
              "    </tr>\n",
              "  </thead>\n",
              "  <tbody>\n",
              "    <tr>\n",
              "      <th>0</th>\n",
              "      <td>2.17</td>\n",
              "      <td>1</td>\n",
              "      <td>5953</td>\n",
              "      <td>0.0</td>\n",
              "      <td>0.0</td>\n",
              "      <td>0.0</td>\n",
              "      <td>0.0</td>\n",
              "      <td>1.0</td>\n",
              "      <td>0.0</td>\n",
              "      <td>0.0</td>\n",
              "      <td>...</td>\n",
              "      <td>0.0</td>\n",
              "      <td>1.0</td>\n",
              "      <td>0.0</td>\n",
              "      <td>0.0</td>\n",
              "      <td>0.0</td>\n",
              "      <td>0.0</td>\n",
              "      <td>0.0</td>\n",
              "      <td>1.0</td>\n",
              "      <td>0.0</td>\n",
              "      <td>1.0</td>\n",
              "    </tr>\n",
              "    <tr>\n",
              "      <th>1</th>\n",
              "      <td>2.33</td>\n",
              "      <td>1</td>\n",
              "      <td>5953</td>\n",
              "      <td>0.0</td>\n",
              "      <td>0.0</td>\n",
              "      <td>0.0</td>\n",
              "      <td>0.0</td>\n",
              "      <td>1.0</td>\n",
              "      <td>0.0</td>\n",
              "      <td>0.0</td>\n",
              "      <td>...</td>\n",
              "      <td>1.0</td>\n",
              "      <td>0.0</td>\n",
              "      <td>0.0</td>\n",
              "      <td>0.0</td>\n",
              "      <td>0.0</td>\n",
              "      <td>0.0</td>\n",
              "      <td>0.0</td>\n",
              "      <td>1.0</td>\n",
              "      <td>0.0</td>\n",
              "      <td>1.0</td>\n",
              "    </tr>\n",
              "    <tr>\n",
              "      <th>2</th>\n",
              "      <td>2.17</td>\n",
              "      <td>1</td>\n",
              "      <td>5956</td>\n",
              "      <td>1.0</td>\n",
              "      <td>0.0</td>\n",
              "      <td>0.0</td>\n",
              "      <td>0.0</td>\n",
              "      <td>0.0</td>\n",
              "      <td>0.0</td>\n",
              "      <td>0.0</td>\n",
              "      <td>...</td>\n",
              "      <td>0.0</td>\n",
              "      <td>0.0</td>\n",
              "      <td>0.0</td>\n",
              "      <td>0.0</td>\n",
              "      <td>0.0</td>\n",
              "      <td>0.0</td>\n",
              "      <td>0.0</td>\n",
              "      <td>1.0</td>\n",
              "      <td>0.0</td>\n",
              "      <td>1.0</td>\n",
              "    </tr>\n",
              "    <tr>\n",
              "      <th>3</th>\n",
              "      <td>2.25</td>\n",
              "      <td>1</td>\n",
              "      <td>5955</td>\n",
              "      <td>0.0</td>\n",
              "      <td>0.0</td>\n",
              "      <td>0.0</td>\n",
              "      <td>0.0</td>\n",
              "      <td>0.0</td>\n",
              "      <td>1.0</td>\n",
              "      <td>0.0</td>\n",
              "      <td>...</td>\n",
              "      <td>0.0</td>\n",
              "      <td>0.0</td>\n",
              "      <td>0.0</td>\n",
              "      <td>0.0</td>\n",
              "      <td>0.0</td>\n",
              "      <td>0.0</td>\n",
              "      <td>0.0</td>\n",
              "      <td>1.0</td>\n",
              "      <td>0.0</td>\n",
              "      <td>1.0</td>\n",
              "    </tr>\n",
              "    <tr>\n",
              "      <th>4</th>\n",
              "      <td>2.33</td>\n",
              "      <td>1</td>\n",
              "      <td>5955</td>\n",
              "      <td>0.0</td>\n",
              "      <td>0.0</td>\n",
              "      <td>0.0</td>\n",
              "      <td>0.0</td>\n",
              "      <td>0.0</td>\n",
              "      <td>1.0</td>\n",
              "      <td>0.0</td>\n",
              "      <td>...</td>\n",
              "      <td>1.0</td>\n",
              "      <td>0.0</td>\n",
              "      <td>0.0</td>\n",
              "      <td>0.0</td>\n",
              "      <td>0.0</td>\n",
              "      <td>0.0</td>\n",
              "      <td>0.0</td>\n",
              "      <td>1.0</td>\n",
              "      <td>0.0</td>\n",
              "      <td>1.0</td>\n",
              "    </tr>\n",
              "  </tbody>\n",
              "</table>\n",
              "<p>5 rows × 38 columns</p>\n",
              "</div>\n",
              "      <button class=\"colab-df-convert\" onclick=\"convertToInteractive('df-36f7a2cb-e84b-4a65-8281-5c6907a9193f')\"\n",
              "              title=\"Convert this dataframe to an interactive table.\"\n",
              "              style=\"display:none;\">\n",
              "        \n",
              "  <svg xmlns=\"http://www.w3.org/2000/svg\" height=\"24px\"viewBox=\"0 0 24 24\"\n",
              "       width=\"24px\">\n",
              "    <path d=\"M0 0h24v24H0V0z\" fill=\"none\"/>\n",
              "    <path d=\"M18.56 5.44l.94 2.06.94-2.06 2.06-.94-2.06-.94-.94-2.06-.94 2.06-2.06.94zm-11 1L8.5 8.5l.94-2.06 2.06-.94-2.06-.94L8.5 2.5l-.94 2.06-2.06.94zm10 10l.94 2.06.94-2.06 2.06-.94-2.06-.94-.94-2.06-.94 2.06-2.06.94z\"/><path d=\"M17.41 7.96l-1.37-1.37c-.4-.4-.92-.59-1.43-.59-.52 0-1.04.2-1.43.59L10.3 9.45l-7.72 7.72c-.78.78-.78 2.05 0 2.83L4 21.41c.39.39.9.59 1.41.59.51 0 1.02-.2 1.41-.59l7.78-7.78 2.81-2.81c.8-.78.8-2.07 0-2.86zM5.41 20L4 18.59l7.72-7.72 1.47 1.35L5.41 20z\"/>\n",
              "  </svg>\n",
              "      </button>\n",
              "      \n",
              "  <style>\n",
              "    .colab-df-container {\n",
              "      display:flex;\n",
              "      flex-wrap:wrap;\n",
              "      gap: 12px;\n",
              "    }\n",
              "\n",
              "    .colab-df-convert {\n",
              "      background-color: #E8F0FE;\n",
              "      border: none;\n",
              "      border-radius: 50%;\n",
              "      cursor: pointer;\n",
              "      display: none;\n",
              "      fill: #1967D2;\n",
              "      height: 32px;\n",
              "      padding: 0 0 0 0;\n",
              "      width: 32px;\n",
              "    }\n",
              "\n",
              "    .colab-df-convert:hover {\n",
              "      background-color: #E2EBFA;\n",
              "      box-shadow: 0px 1px 2px rgba(60, 64, 67, 0.3), 0px 1px 3px 1px rgba(60, 64, 67, 0.15);\n",
              "      fill: #174EA6;\n",
              "    }\n",
              "\n",
              "    [theme=dark] .colab-df-convert {\n",
              "      background-color: #3B4455;\n",
              "      fill: #D2E3FC;\n",
              "    }\n",
              "\n",
              "    [theme=dark] .colab-df-convert:hover {\n",
              "      background-color: #434B5C;\n",
              "      box-shadow: 0px 1px 3px 1px rgba(0, 0, 0, 0.15);\n",
              "      filter: drop-shadow(0px 1px 2px rgba(0, 0, 0, 0.3));\n",
              "      fill: #FFFFFF;\n",
              "    }\n",
              "  </style>\n",
              "\n",
              "      <script>\n",
              "        const buttonEl =\n",
              "          document.querySelector('#df-36f7a2cb-e84b-4a65-8281-5c6907a9193f button.colab-df-convert');\n",
              "        buttonEl.style.display =\n",
              "          google.colab.kernel.accessAllowed ? 'block' : 'none';\n",
              "\n",
              "        async function convertToInteractive(key) {\n",
              "          const element = document.querySelector('#df-36f7a2cb-e84b-4a65-8281-5c6907a9193f');\n",
              "          const dataTable =\n",
              "            await google.colab.kernel.invokeFunction('convertToInteractive',\n",
              "                                                     [key], {});\n",
              "          if (!dataTable) return;\n",
              "\n",
              "          const docLinkHtml = 'Like what you see? Visit the ' +\n",
              "            '<a target=\"_blank\" href=https://colab.research.google.com/notebooks/data_table.ipynb>data table notebook</a>'\n",
              "            + ' to learn more about interactive tables.';\n",
              "          element.innerHTML = '';\n",
              "          dataTable['output_type'] = 'display_data';\n",
              "          await google.colab.output.renderOutput(dataTable, element);\n",
              "          const docLink = document.createElement('div');\n",
              "          docLink.innerHTML = docLinkHtml;\n",
              "          element.appendChild(docLink);\n",
              "        }\n",
              "      </script>\n",
              "    </div>\n",
              "  </div>\n",
              "  "
            ]
          },
          "metadata": {},
          "execution_count": 15
        }
      ],
      "source": [
        "df.head()"
      ]
    },
    {
      "cell_type": "code",
      "execution_count": 16,
      "metadata": {
        "colab": {
          "base_uri": "https://localhost:8080/"
        },
        "id": "AkoL6a1sVrvN",
        "outputId": "13ec0d51-f970-49b4-b1b3-72f6ae74cafe"
      },
      "outputs": [
        {
          "output_type": "execute_result",
          "data": {
            "text/plain": [
              "Index(['duration', 'days_left', 'price', 'airline_AirAsia',\n",
              "       'airline_Air_India', 'airline_GO_FIRST', 'airline_Indigo',\n",
              "       'airline_SpiceJet', 'airline_Vistara', 'source_city_Bangalore',\n",
              "       'source_city_Chennai', 'source_city_Delhi', 'source_city_Hyderabad',\n",
              "       'source_city_Kolkata', 'source_city_Mumbai', 'departure_time_Afternoon',\n",
              "       'departure_time_Early_Morning', 'departure_time_Evening',\n",
              "       'departure_time_Late_Night', 'departure_time_Morning',\n",
              "       'departure_time_Night', 'stops_one', 'stops_two_or_more', 'stops_zero',\n",
              "       'arrival_time_Afternoon', 'arrival_time_Early_Morning',\n",
              "       'arrival_time_Evening', 'arrival_time_Late_Night',\n",
              "       'arrival_time_Morning', 'arrival_time_Night',\n",
              "       'destination_city_Bangalore', 'destination_city_Chennai',\n",
              "       'destination_city_Delhi', 'destination_city_Hyderabad',\n",
              "       'destination_city_Kolkata', 'destination_city_Mumbai', 'class_Business',\n",
              "       'class_Economy'],\n",
              "      dtype='object')"
            ]
          },
          "metadata": {},
          "execution_count": 16
        }
      ],
      "source": [
        "df.columns"
      ]
    },
    {
      "cell_type": "markdown",
      "metadata": {
        "id": "xYvT5fCYa6lv"
      },
      "source": [
        "## Input and Target Columns"
      ]
    },
    {
      "cell_type": "code",
      "execution_count": 17,
      "metadata": {
        "id": "qyARnuUnWRPh"
      },
      "outputs": [],
      "source": [
        "input_col = df.drop(['price'], axis = 1) # Splittig input and target column by dropping target variable "
      ]
    },
    {
      "cell_type": "code",
      "execution_count": 18,
      "metadata": {
        "colab": {
          "base_uri": "https://localhost:8080/",
          "height": 0
        },
        "id": "Q4GblQM3Waur",
        "outputId": "a45afa6d-eada-465c-e81d-e38fd8255e4f"
      },
      "outputs": [
        {
          "output_type": "execute_result",
          "data": {
            "text/plain": [
              "        duration  days_left  airline_AirAsia  airline_Air_India  \\\n",
              "0           2.17          1              0.0                0.0   \n",
              "1           2.33          1              0.0                0.0   \n",
              "2           2.17          1              1.0                0.0   \n",
              "3           2.25          1              0.0                0.0   \n",
              "4           2.33          1              0.0                0.0   \n",
              "...          ...        ...              ...                ...   \n",
              "300148     10.08         49              0.0                0.0   \n",
              "300149     10.42         49              0.0                0.0   \n",
              "300150     13.83         49              0.0                0.0   \n",
              "300151     10.00         49              0.0                0.0   \n",
              "300152     10.08         49              0.0                0.0   \n",
              "\n",
              "        airline_GO_FIRST  airline_Indigo  airline_SpiceJet  airline_Vistara  \\\n",
              "0                    0.0             0.0               1.0              0.0   \n",
              "1                    0.0             0.0               1.0              0.0   \n",
              "2                    0.0             0.0               0.0              0.0   \n",
              "3                    0.0             0.0               0.0              1.0   \n",
              "4                    0.0             0.0               0.0              1.0   \n",
              "...                  ...             ...               ...              ...   \n",
              "300148               0.0             0.0               0.0              1.0   \n",
              "300149               0.0             0.0               0.0              1.0   \n",
              "300150               0.0             0.0               0.0              1.0   \n",
              "300151               0.0             0.0               0.0              1.0   \n",
              "300152               0.0             0.0               0.0              1.0   \n",
              "\n",
              "        source_city_Bangalore  source_city_Chennai  ...  arrival_time_Morning  \\\n",
              "0                         0.0                  0.0  ...                   0.0   \n",
              "1                         0.0                  0.0  ...                   1.0   \n",
              "2                         0.0                  0.0  ...                   0.0   \n",
              "3                         0.0                  0.0  ...                   0.0   \n",
              "4                         0.0                  0.0  ...                   1.0   \n",
              "...                       ...                  ...  ...                   ...   \n",
              "300148                    0.0                  1.0  ...                   0.0   \n",
              "300149                    0.0                  1.0  ...                   0.0   \n",
              "300150                    0.0                  1.0  ...                   0.0   \n",
              "300151                    0.0                  1.0  ...                   0.0   \n",
              "300152                    0.0                  1.0  ...                   0.0   \n",
              "\n",
              "        arrival_time_Night  destination_city_Bangalore  \\\n",
              "0                      1.0                         0.0   \n",
              "1                      0.0                         0.0   \n",
              "2                      0.0                         0.0   \n",
              "3                      0.0                         0.0   \n",
              "4                      0.0                         0.0   \n",
              "...                    ...                         ...   \n",
              "300148                 0.0                         0.0   \n",
              "300149                 1.0                         0.0   \n",
              "300150                 1.0                         0.0   \n",
              "300151                 0.0                         0.0   \n",
              "300152                 0.0                         0.0   \n",
              "\n",
              "        destination_city_Chennai  destination_city_Delhi  \\\n",
              "0                            0.0                     0.0   \n",
              "1                            0.0                     0.0   \n",
              "2                            0.0                     0.0   \n",
              "3                            0.0                     0.0   \n",
              "4                            0.0                     0.0   \n",
              "...                          ...                     ...   \n",
              "300148                       0.0                     0.0   \n",
              "300149                       0.0                     0.0   \n",
              "300150                       0.0                     0.0   \n",
              "300151                       0.0                     0.0   \n",
              "300152                       0.0                     0.0   \n",
              "\n",
              "        destination_city_Hyderabad  destination_city_Kolkata  \\\n",
              "0                              0.0                       0.0   \n",
              "1                              0.0                       0.0   \n",
              "2                              0.0                       0.0   \n",
              "3                              0.0                       0.0   \n",
              "4                              0.0                       0.0   \n",
              "...                            ...                       ...   \n",
              "300148                         1.0                       0.0   \n",
              "300149                         1.0                       0.0   \n",
              "300150                         1.0                       0.0   \n",
              "300151                         1.0                       0.0   \n",
              "300152                         1.0                       0.0   \n",
              "\n",
              "        destination_city_Mumbai  class_Business  class_Economy  \n",
              "0                           1.0             0.0            1.0  \n",
              "1                           1.0             0.0            1.0  \n",
              "2                           1.0             0.0            1.0  \n",
              "3                           1.0             0.0            1.0  \n",
              "4                           1.0             0.0            1.0  \n",
              "...                         ...             ...            ...  \n",
              "300148                      0.0             1.0            0.0  \n",
              "300149                      0.0             1.0            0.0  \n",
              "300150                      0.0             1.0            0.0  \n",
              "300151                      0.0             1.0            0.0  \n",
              "300152                      0.0             1.0            0.0  \n",
              "\n",
              "[300153 rows x 37 columns]"
            ],
            "text/html": [
              "\n",
              "  <div id=\"df-41b4e0d9-367e-4813-8a79-2de264e2d070\">\n",
              "    <div class=\"colab-df-container\">\n",
              "      <div>\n",
              "<style scoped>\n",
              "    .dataframe tbody tr th:only-of-type {\n",
              "        vertical-align: middle;\n",
              "    }\n",
              "\n",
              "    .dataframe tbody tr th {\n",
              "        vertical-align: top;\n",
              "    }\n",
              "\n",
              "    .dataframe thead th {\n",
              "        text-align: right;\n",
              "    }\n",
              "</style>\n",
              "<table border=\"1\" class=\"dataframe\">\n",
              "  <thead>\n",
              "    <tr style=\"text-align: right;\">\n",
              "      <th></th>\n",
              "      <th>duration</th>\n",
              "      <th>days_left</th>\n",
              "      <th>airline_AirAsia</th>\n",
              "      <th>airline_Air_India</th>\n",
              "      <th>airline_GO_FIRST</th>\n",
              "      <th>airline_Indigo</th>\n",
              "      <th>airline_SpiceJet</th>\n",
              "      <th>airline_Vistara</th>\n",
              "      <th>source_city_Bangalore</th>\n",
              "      <th>source_city_Chennai</th>\n",
              "      <th>...</th>\n",
              "      <th>arrival_time_Morning</th>\n",
              "      <th>arrival_time_Night</th>\n",
              "      <th>destination_city_Bangalore</th>\n",
              "      <th>destination_city_Chennai</th>\n",
              "      <th>destination_city_Delhi</th>\n",
              "      <th>destination_city_Hyderabad</th>\n",
              "      <th>destination_city_Kolkata</th>\n",
              "      <th>destination_city_Mumbai</th>\n",
              "      <th>class_Business</th>\n",
              "      <th>class_Economy</th>\n",
              "    </tr>\n",
              "  </thead>\n",
              "  <tbody>\n",
              "    <tr>\n",
              "      <th>0</th>\n",
              "      <td>2.17</td>\n",
              "      <td>1</td>\n",
              "      <td>0.0</td>\n",
              "      <td>0.0</td>\n",
              "      <td>0.0</td>\n",
              "      <td>0.0</td>\n",
              "      <td>1.0</td>\n",
              "      <td>0.0</td>\n",
              "      <td>0.0</td>\n",
              "      <td>0.0</td>\n",
              "      <td>...</td>\n",
              "      <td>0.0</td>\n",
              "      <td>1.0</td>\n",
              "      <td>0.0</td>\n",
              "      <td>0.0</td>\n",
              "      <td>0.0</td>\n",
              "      <td>0.0</td>\n",
              "      <td>0.0</td>\n",
              "      <td>1.0</td>\n",
              "      <td>0.0</td>\n",
              "      <td>1.0</td>\n",
              "    </tr>\n",
              "    <tr>\n",
              "      <th>1</th>\n",
              "      <td>2.33</td>\n",
              "      <td>1</td>\n",
              "      <td>0.0</td>\n",
              "      <td>0.0</td>\n",
              "      <td>0.0</td>\n",
              "      <td>0.0</td>\n",
              "      <td>1.0</td>\n",
              "      <td>0.0</td>\n",
              "      <td>0.0</td>\n",
              "      <td>0.0</td>\n",
              "      <td>...</td>\n",
              "      <td>1.0</td>\n",
              "      <td>0.0</td>\n",
              "      <td>0.0</td>\n",
              "      <td>0.0</td>\n",
              "      <td>0.0</td>\n",
              "      <td>0.0</td>\n",
              "      <td>0.0</td>\n",
              "      <td>1.0</td>\n",
              "      <td>0.0</td>\n",
              "      <td>1.0</td>\n",
              "    </tr>\n",
              "    <tr>\n",
              "      <th>2</th>\n",
              "      <td>2.17</td>\n",
              "      <td>1</td>\n",
              "      <td>1.0</td>\n",
              "      <td>0.0</td>\n",
              "      <td>0.0</td>\n",
              "      <td>0.0</td>\n",
              "      <td>0.0</td>\n",
              "      <td>0.0</td>\n",
              "      <td>0.0</td>\n",
              "      <td>0.0</td>\n",
              "      <td>...</td>\n",
              "      <td>0.0</td>\n",
              "      <td>0.0</td>\n",
              "      <td>0.0</td>\n",
              "      <td>0.0</td>\n",
              "      <td>0.0</td>\n",
              "      <td>0.0</td>\n",
              "      <td>0.0</td>\n",
              "      <td>1.0</td>\n",
              "      <td>0.0</td>\n",
              "      <td>1.0</td>\n",
              "    </tr>\n",
              "    <tr>\n",
              "      <th>3</th>\n",
              "      <td>2.25</td>\n",
              "      <td>1</td>\n",
              "      <td>0.0</td>\n",
              "      <td>0.0</td>\n",
              "      <td>0.0</td>\n",
              "      <td>0.0</td>\n",
              "      <td>0.0</td>\n",
              "      <td>1.0</td>\n",
              "      <td>0.0</td>\n",
              "      <td>0.0</td>\n",
              "      <td>...</td>\n",
              "      <td>0.0</td>\n",
              "      <td>0.0</td>\n",
              "      <td>0.0</td>\n",
              "      <td>0.0</td>\n",
              "      <td>0.0</td>\n",
              "      <td>0.0</td>\n",
              "      <td>0.0</td>\n",
              "      <td>1.0</td>\n",
              "      <td>0.0</td>\n",
              "      <td>1.0</td>\n",
              "    </tr>\n",
              "    <tr>\n",
              "      <th>4</th>\n",
              "      <td>2.33</td>\n",
              "      <td>1</td>\n",
              "      <td>0.0</td>\n",
              "      <td>0.0</td>\n",
              "      <td>0.0</td>\n",
              "      <td>0.0</td>\n",
              "      <td>0.0</td>\n",
              "      <td>1.0</td>\n",
              "      <td>0.0</td>\n",
              "      <td>0.0</td>\n",
              "      <td>...</td>\n",
              "      <td>1.0</td>\n",
              "      <td>0.0</td>\n",
              "      <td>0.0</td>\n",
              "      <td>0.0</td>\n",
              "      <td>0.0</td>\n",
              "      <td>0.0</td>\n",
              "      <td>0.0</td>\n",
              "      <td>1.0</td>\n",
              "      <td>0.0</td>\n",
              "      <td>1.0</td>\n",
              "    </tr>\n",
              "    <tr>\n",
              "      <th>...</th>\n",
              "      <td>...</td>\n",
              "      <td>...</td>\n",
              "      <td>...</td>\n",
              "      <td>...</td>\n",
              "      <td>...</td>\n",
              "      <td>...</td>\n",
              "      <td>...</td>\n",
              "      <td>...</td>\n",
              "      <td>...</td>\n",
              "      <td>...</td>\n",
              "      <td>...</td>\n",
              "      <td>...</td>\n",
              "      <td>...</td>\n",
              "      <td>...</td>\n",
              "      <td>...</td>\n",
              "      <td>...</td>\n",
              "      <td>...</td>\n",
              "      <td>...</td>\n",
              "      <td>...</td>\n",
              "      <td>...</td>\n",
              "      <td>...</td>\n",
              "    </tr>\n",
              "    <tr>\n",
              "      <th>300148</th>\n",
              "      <td>10.08</td>\n",
              "      <td>49</td>\n",
              "      <td>0.0</td>\n",
              "      <td>0.0</td>\n",
              "      <td>0.0</td>\n",
              "      <td>0.0</td>\n",
              "      <td>0.0</td>\n",
              "      <td>1.0</td>\n",
              "      <td>0.0</td>\n",
              "      <td>1.0</td>\n",
              "      <td>...</td>\n",
              "      <td>0.0</td>\n",
              "      <td>0.0</td>\n",
              "      <td>0.0</td>\n",
              "      <td>0.0</td>\n",
              "      <td>0.0</td>\n",
              "      <td>1.0</td>\n",
              "      <td>0.0</td>\n",
              "      <td>0.0</td>\n",
              "      <td>1.0</td>\n",
              "      <td>0.0</td>\n",
              "    </tr>\n",
              "    <tr>\n",
              "      <th>300149</th>\n",
              "      <td>10.42</td>\n",
              "      <td>49</td>\n",
              "      <td>0.0</td>\n",
              "      <td>0.0</td>\n",
              "      <td>0.0</td>\n",
              "      <td>0.0</td>\n",
              "      <td>0.0</td>\n",
              "      <td>1.0</td>\n",
              "      <td>0.0</td>\n",
              "      <td>1.0</td>\n",
              "      <td>...</td>\n",
              "      <td>0.0</td>\n",
              "      <td>1.0</td>\n",
              "      <td>0.0</td>\n",
              "      <td>0.0</td>\n",
              "      <td>0.0</td>\n",
              "      <td>1.0</td>\n",
              "      <td>0.0</td>\n",
              "      <td>0.0</td>\n",
              "      <td>1.0</td>\n",
              "      <td>0.0</td>\n",
              "    </tr>\n",
              "    <tr>\n",
              "      <th>300150</th>\n",
              "      <td>13.83</td>\n",
              "      <td>49</td>\n",
              "      <td>0.0</td>\n",
              "      <td>0.0</td>\n",
              "      <td>0.0</td>\n",
              "      <td>0.0</td>\n",
              "      <td>0.0</td>\n",
              "      <td>1.0</td>\n",
              "      <td>0.0</td>\n",
              "      <td>1.0</td>\n",
              "      <td>...</td>\n",
              "      <td>0.0</td>\n",
              "      <td>1.0</td>\n",
              "      <td>0.0</td>\n",
              "      <td>0.0</td>\n",
              "      <td>0.0</td>\n",
              "      <td>1.0</td>\n",
              "      <td>0.0</td>\n",
              "      <td>0.0</td>\n",
              "      <td>1.0</td>\n",
              "      <td>0.0</td>\n",
              "    </tr>\n",
              "    <tr>\n",
              "      <th>300151</th>\n",
              "      <td>10.00</td>\n",
              "      <td>49</td>\n",
              "      <td>0.0</td>\n",
              "      <td>0.0</td>\n",
              "      <td>0.0</td>\n",
              "      <td>0.0</td>\n",
              "      <td>0.0</td>\n",
              "      <td>1.0</td>\n",
              "      <td>0.0</td>\n",
              "      <td>1.0</td>\n",
              "      <td>...</td>\n",
              "      <td>0.0</td>\n",
              "      <td>0.0</td>\n",
              "      <td>0.0</td>\n",
              "      <td>0.0</td>\n",
              "      <td>0.0</td>\n",
              "      <td>1.0</td>\n",
              "      <td>0.0</td>\n",
              "      <td>0.0</td>\n",
              "      <td>1.0</td>\n",
              "      <td>0.0</td>\n",
              "    </tr>\n",
              "    <tr>\n",
              "      <th>300152</th>\n",
              "      <td>10.08</td>\n",
              "      <td>49</td>\n",
              "      <td>0.0</td>\n",
              "      <td>0.0</td>\n",
              "      <td>0.0</td>\n",
              "      <td>0.0</td>\n",
              "      <td>0.0</td>\n",
              "      <td>1.0</td>\n",
              "      <td>0.0</td>\n",
              "      <td>1.0</td>\n",
              "      <td>...</td>\n",
              "      <td>0.0</td>\n",
              "      <td>0.0</td>\n",
              "      <td>0.0</td>\n",
              "      <td>0.0</td>\n",
              "      <td>0.0</td>\n",
              "      <td>1.0</td>\n",
              "      <td>0.0</td>\n",
              "      <td>0.0</td>\n",
              "      <td>1.0</td>\n",
              "      <td>0.0</td>\n",
              "    </tr>\n",
              "  </tbody>\n",
              "</table>\n",
              "<p>300153 rows × 37 columns</p>\n",
              "</div>\n",
              "      <button class=\"colab-df-convert\" onclick=\"convertToInteractive('df-41b4e0d9-367e-4813-8a79-2de264e2d070')\"\n",
              "              title=\"Convert this dataframe to an interactive table.\"\n",
              "              style=\"display:none;\">\n",
              "        \n",
              "  <svg xmlns=\"http://www.w3.org/2000/svg\" height=\"24px\"viewBox=\"0 0 24 24\"\n",
              "       width=\"24px\">\n",
              "    <path d=\"M0 0h24v24H0V0z\" fill=\"none\"/>\n",
              "    <path d=\"M18.56 5.44l.94 2.06.94-2.06 2.06-.94-2.06-.94-.94-2.06-.94 2.06-2.06.94zm-11 1L8.5 8.5l.94-2.06 2.06-.94-2.06-.94L8.5 2.5l-.94 2.06-2.06.94zm10 10l.94 2.06.94-2.06 2.06-.94-2.06-.94-.94-2.06-.94 2.06-2.06.94z\"/><path d=\"M17.41 7.96l-1.37-1.37c-.4-.4-.92-.59-1.43-.59-.52 0-1.04.2-1.43.59L10.3 9.45l-7.72 7.72c-.78.78-.78 2.05 0 2.83L4 21.41c.39.39.9.59 1.41.59.51 0 1.02-.2 1.41-.59l7.78-7.78 2.81-2.81c.8-.78.8-2.07 0-2.86zM5.41 20L4 18.59l7.72-7.72 1.47 1.35L5.41 20z\"/>\n",
              "  </svg>\n",
              "      </button>\n",
              "      \n",
              "  <style>\n",
              "    .colab-df-container {\n",
              "      display:flex;\n",
              "      flex-wrap:wrap;\n",
              "      gap: 12px;\n",
              "    }\n",
              "\n",
              "    .colab-df-convert {\n",
              "      background-color: #E8F0FE;\n",
              "      border: none;\n",
              "      border-radius: 50%;\n",
              "      cursor: pointer;\n",
              "      display: none;\n",
              "      fill: #1967D2;\n",
              "      height: 32px;\n",
              "      padding: 0 0 0 0;\n",
              "      width: 32px;\n",
              "    }\n",
              "\n",
              "    .colab-df-convert:hover {\n",
              "      background-color: #E2EBFA;\n",
              "      box-shadow: 0px 1px 2px rgba(60, 64, 67, 0.3), 0px 1px 3px 1px rgba(60, 64, 67, 0.15);\n",
              "      fill: #174EA6;\n",
              "    }\n",
              "\n",
              "    [theme=dark] .colab-df-convert {\n",
              "      background-color: #3B4455;\n",
              "      fill: #D2E3FC;\n",
              "    }\n",
              "\n",
              "    [theme=dark] .colab-df-convert:hover {\n",
              "      background-color: #434B5C;\n",
              "      box-shadow: 0px 1px 3px 1px rgba(0, 0, 0, 0.15);\n",
              "      filter: drop-shadow(0px 1px 2px rgba(0, 0, 0, 0.3));\n",
              "      fill: #FFFFFF;\n",
              "    }\n",
              "  </style>\n",
              "\n",
              "      <script>\n",
              "        const buttonEl =\n",
              "          document.querySelector('#df-41b4e0d9-367e-4813-8a79-2de264e2d070 button.colab-df-convert');\n",
              "        buttonEl.style.display =\n",
              "          google.colab.kernel.accessAllowed ? 'block' : 'none';\n",
              "\n",
              "        async function convertToInteractive(key) {\n",
              "          const element = document.querySelector('#df-41b4e0d9-367e-4813-8a79-2de264e2d070');\n",
              "          const dataTable =\n",
              "            await google.colab.kernel.invokeFunction('convertToInteractive',\n",
              "                                                     [key], {});\n",
              "          if (!dataTable) return;\n",
              "\n",
              "          const docLinkHtml = 'Like what you see? Visit the ' +\n",
              "            '<a target=\"_blank\" href=https://colab.research.google.com/notebooks/data_table.ipynb>data table notebook</a>'\n",
              "            + ' to learn more about interactive tables.';\n",
              "          element.innerHTML = '';\n",
              "          dataTable['output_type'] = 'display_data';\n",
              "          await google.colab.output.renderOutput(dataTable, element);\n",
              "          const docLink = document.createElement('div');\n",
              "          docLink.innerHTML = docLinkHtml;\n",
              "          element.appendChild(docLink);\n",
              "        }\n",
              "      </script>\n",
              "    </div>\n",
              "  </div>\n",
              "  "
            ]
          },
          "metadata": {},
          "execution_count": 18
        }
      ],
      "source": [
        "input_col"
      ]
    },
    {
      "cell_type": "code",
      "execution_count": 19,
      "metadata": {
        "id": "9kHYGcuLY8dz"
      },
      "outputs": [],
      "source": [
        "target_col = df.iloc[:,2:3] # Taking target variable for target column i.e 'price' column"
      ]
    },
    {
      "cell_type": "code",
      "execution_count": 20,
      "metadata": {
        "colab": {
          "base_uri": "https://localhost:8080/",
          "height": 0
        },
        "id": "u2dvmbjOZAxw",
        "outputId": "99d363be-d88c-4f56-ca7c-5404ce1f65cf"
      },
      "outputs": [
        {
          "output_type": "execute_result",
          "data": {
            "text/plain": [
              "   price\n",
              "0   5953\n",
              "1   5953\n",
              "2   5956\n",
              "3   5955\n",
              "4   5955"
            ],
            "text/html": [
              "\n",
              "  <div id=\"df-8045e6a3-1c97-4cfa-a5de-ef54a23c1519\">\n",
              "    <div class=\"colab-df-container\">\n",
              "      <div>\n",
              "<style scoped>\n",
              "    .dataframe tbody tr th:only-of-type {\n",
              "        vertical-align: middle;\n",
              "    }\n",
              "\n",
              "    .dataframe tbody tr th {\n",
              "        vertical-align: top;\n",
              "    }\n",
              "\n",
              "    .dataframe thead th {\n",
              "        text-align: right;\n",
              "    }\n",
              "</style>\n",
              "<table border=\"1\" class=\"dataframe\">\n",
              "  <thead>\n",
              "    <tr style=\"text-align: right;\">\n",
              "      <th></th>\n",
              "      <th>price</th>\n",
              "    </tr>\n",
              "  </thead>\n",
              "  <tbody>\n",
              "    <tr>\n",
              "      <th>0</th>\n",
              "      <td>5953</td>\n",
              "    </tr>\n",
              "    <tr>\n",
              "      <th>1</th>\n",
              "      <td>5953</td>\n",
              "    </tr>\n",
              "    <tr>\n",
              "      <th>2</th>\n",
              "      <td>5956</td>\n",
              "    </tr>\n",
              "    <tr>\n",
              "      <th>3</th>\n",
              "      <td>5955</td>\n",
              "    </tr>\n",
              "    <tr>\n",
              "      <th>4</th>\n",
              "      <td>5955</td>\n",
              "    </tr>\n",
              "  </tbody>\n",
              "</table>\n",
              "</div>\n",
              "      <button class=\"colab-df-convert\" onclick=\"convertToInteractive('df-8045e6a3-1c97-4cfa-a5de-ef54a23c1519')\"\n",
              "              title=\"Convert this dataframe to an interactive table.\"\n",
              "              style=\"display:none;\">\n",
              "        \n",
              "  <svg xmlns=\"http://www.w3.org/2000/svg\" height=\"24px\"viewBox=\"0 0 24 24\"\n",
              "       width=\"24px\">\n",
              "    <path d=\"M0 0h24v24H0V0z\" fill=\"none\"/>\n",
              "    <path d=\"M18.56 5.44l.94 2.06.94-2.06 2.06-.94-2.06-.94-.94-2.06-.94 2.06-2.06.94zm-11 1L8.5 8.5l.94-2.06 2.06-.94-2.06-.94L8.5 2.5l-.94 2.06-2.06.94zm10 10l.94 2.06.94-2.06 2.06-.94-2.06-.94-.94-2.06-.94 2.06-2.06.94z\"/><path d=\"M17.41 7.96l-1.37-1.37c-.4-.4-.92-.59-1.43-.59-.52 0-1.04.2-1.43.59L10.3 9.45l-7.72 7.72c-.78.78-.78 2.05 0 2.83L4 21.41c.39.39.9.59 1.41.59.51 0 1.02-.2 1.41-.59l7.78-7.78 2.81-2.81c.8-.78.8-2.07 0-2.86zM5.41 20L4 18.59l7.72-7.72 1.47 1.35L5.41 20z\"/>\n",
              "  </svg>\n",
              "      </button>\n",
              "      \n",
              "  <style>\n",
              "    .colab-df-container {\n",
              "      display:flex;\n",
              "      flex-wrap:wrap;\n",
              "      gap: 12px;\n",
              "    }\n",
              "\n",
              "    .colab-df-convert {\n",
              "      background-color: #E8F0FE;\n",
              "      border: none;\n",
              "      border-radius: 50%;\n",
              "      cursor: pointer;\n",
              "      display: none;\n",
              "      fill: #1967D2;\n",
              "      height: 32px;\n",
              "      padding: 0 0 0 0;\n",
              "      width: 32px;\n",
              "    }\n",
              "\n",
              "    .colab-df-convert:hover {\n",
              "      background-color: #E2EBFA;\n",
              "      box-shadow: 0px 1px 2px rgba(60, 64, 67, 0.3), 0px 1px 3px 1px rgba(60, 64, 67, 0.15);\n",
              "      fill: #174EA6;\n",
              "    }\n",
              "\n",
              "    [theme=dark] .colab-df-convert {\n",
              "      background-color: #3B4455;\n",
              "      fill: #D2E3FC;\n",
              "    }\n",
              "\n",
              "    [theme=dark] .colab-df-convert:hover {\n",
              "      background-color: #434B5C;\n",
              "      box-shadow: 0px 1px 3px 1px rgba(0, 0, 0, 0.15);\n",
              "      filter: drop-shadow(0px 1px 2px rgba(0, 0, 0, 0.3));\n",
              "      fill: #FFFFFF;\n",
              "    }\n",
              "  </style>\n",
              "\n",
              "      <script>\n",
              "        const buttonEl =\n",
              "          document.querySelector('#df-8045e6a3-1c97-4cfa-a5de-ef54a23c1519 button.colab-df-convert');\n",
              "        buttonEl.style.display =\n",
              "          google.colab.kernel.accessAllowed ? 'block' : 'none';\n",
              "\n",
              "        async function convertToInteractive(key) {\n",
              "          const element = document.querySelector('#df-8045e6a3-1c97-4cfa-a5de-ef54a23c1519');\n",
              "          const dataTable =\n",
              "            await google.colab.kernel.invokeFunction('convertToInteractive',\n",
              "                                                     [key], {});\n",
              "          if (!dataTable) return;\n",
              "\n",
              "          const docLinkHtml = 'Like what you see? Visit the ' +\n",
              "            '<a target=\"_blank\" href=https://colab.research.google.com/notebooks/data_table.ipynb>data table notebook</a>'\n",
              "            + ' to learn more about interactive tables.';\n",
              "          element.innerHTML = '';\n",
              "          dataTable['output_type'] = 'display_data';\n",
              "          await google.colab.output.renderOutput(dataTable, element);\n",
              "          const docLink = document.createElement('div');\n",
              "          docLink.innerHTML = docLinkHtml;\n",
              "          element.appendChild(docLink);\n",
              "        }\n",
              "      </script>\n",
              "    </div>\n",
              "  </div>\n",
              "  "
            ]
          },
          "metadata": {},
          "execution_count": 20
        }
      ],
      "source": [
        "target_col.head()"
      ]
    },
    {
      "cell_type": "code",
      "execution_count": 20,
      "metadata": {
        "id": "bFo8IRNtbFoO"
      },
      "outputs": [],
      "source": []
    },
    {
      "cell_type": "markdown",
      "metadata": {
        "id": "i22prnoCbGIy"
      },
      "source": [
        "## Scaling Numeric Features"
      ]
    },
    {
      "cell_type": "markdown",
      "source": [
        "**Scaling numeric features** is an important step in data preprocessing when creating machine learning models. Scaling is necessary because the range of values of raw data often varies widely, which can cause poor performance in some machine learning algorithms due to the disproportionate impact of certain values. For example, consider a dataset that contains a feature with values ranging from 0 to 1,000,000. Without scaling, algorithms like linear regression or logistic regression might weight the value of 1,000,000 much more heavily than the value of 1, thus skewing the model.\n",
        "\n",
        "By scaling the values, we can ensure that all features are treated equally and that no single feature has too much of an impact. Scaling also helps to reduce the time it takes for the model to converge, as gradient descent converges much faster on scaled data than on unscaled data."
      ],
      "metadata": {
        "id": "gStfwG8z2cY4"
      }
    },
    {
      "cell_type": "code",
      "execution_count": 21,
      "metadata": {
        "id": "nurE6Nkcbebn"
      },
      "outputs": [],
      "source": [
        "numeric_cols = ['duration',\t'days_left']"
      ]
    },
    {
      "cell_type": "code",
      "execution_count": 22,
      "metadata": {
        "id": "lTTScS3_bPoh"
      },
      "outputs": [],
      "source": [
        "from sklearn.preprocessing import MinMaxScaler\n",
        "scaler = MinMaxScaler().fit(df[numeric_cols])"
      ]
    },
    {
      "cell_type": "code",
      "execution_count": 23,
      "metadata": {
        "id": "pSSQq_5icA04"
      },
      "outputs": [],
      "source": [
        "input_col[numeric_cols] = scaler.transform(input_col[numeric_cols])"
      ]
    },
    {
      "cell_type": "markdown",
      "metadata": {
        "id": "sSMk7aZaZ_M2"
      },
      "source": [
        "## Training, Validation and Test Sets"
      ]
    },
    {
      "cell_type": "markdown",
      "source": [
        "Training, validation, and testing are three distinct phases of the model development process. Training is the process by which a model is developed and tuned to fit the data it is given. The goal of training is to find a set of parameters that best describe the data and generate the most accurate predictions. Validation is then used to assess the performance of the model on new data. This is done to ensure that the model is generalizing well to unseen data and is not overfitting to the training data. Finally, once the model has been validated, it can be tested on a separate test set to get a final performance measure. This is done to ensure that the model is performing as expected on unseen data.\n",
        "\n",
        "So splitting the data into training, validation, and test sets when developing a machine learning model is required. The training set is used to teach the model, while the validation set is used to measure the model's performance as it learns. The test set is used to evaluate the performance of the model when all the training is complete."
      ],
      "metadata": {
        "id": "Z8hw8OFw3GsR"
      }
    },
    {
      "cell_type": "code",
      "execution_count": 24,
      "metadata": {
        "id": "SEACYZV7aUeW"
      },
      "outputs": [],
      "source": [
        "from sklearn.model_selection import train_test_split"
      ]
    },
    {
      "cell_type": "code",
      "execution_count": 25,
      "metadata": {
        "id": "ZH2X9mpec6a2"
      },
      "outputs": [],
      "source": [
        "train_size=0.7 # 70% of the data goes for training"
      ]
    },
    {
      "cell_type": "code",
      "execution_count": 26,
      "metadata": {
        "id": "PLb7cX5HdDQ9"
      },
      "outputs": [],
      "source": [
        "train_input_col, rem_input_col, train_target_col, rem_target_col = train_test_split(input_col,target_col, train_size=0.7) "
      ]
    },
    {
      "cell_type": "code",
      "execution_count": 27,
      "metadata": {
        "id": "4rF-kScCqppl"
      },
      "outputs": [],
      "source": [
        "train_size=0.5\n",
        "val_input_col, test_input_col, val_target_col, test_target_col = train_test_split(rem_input_col,rem_target_col, train_size=0.5) # 15% data goes for validation and other 15% goes for testing"
      ]
    },
    {
      "cell_type": "code",
      "execution_count": 28,
      "metadata": {
        "colab": {
          "base_uri": "https://localhost:8080/"
        },
        "id": "eO3gFEszrFWN",
        "outputId": "360bcfae-8879-4131-88ec-7c561989d6b1"
      },
      "outputs": [
        {
          "output_type": "stream",
          "name": "stdout",
          "text": [
            "(210107, 37)\n",
            "(210107, 1)\n",
            "(45023, 37)\n",
            "(45023, 1)\n",
            "(45023, 37)\n",
            "(45023, 1)\n"
          ]
        },
        {
          "output_type": "execute_result",
          "data": {
            "text/plain": [
              "(None, None)"
            ]
          },
          "metadata": {},
          "execution_count": 28
        }
      ],
      "source": [
        "print(train_input_col.shape), print(train_target_col.shape)\n",
        "print(val_input_col.shape), print(val_target_col.shape)\n",
        "print(test_input_col.shape), print(test_target_col.shape)"
      ]
    },
    {
      "cell_type": "markdown",
      "metadata": {
        "id": "c2Kpp7RyrjqX"
      },
      "source": [
        "# Training Models"
      ]
    },
    {
      "cell_type": "markdown",
      "source": [
        "## Linear Regression"
      ],
      "metadata": {
        "id": "fTzna3_7tmN4"
      }
    },
    {
      "cell_type": "markdown",
      "source": [
        "<img src='https://imgur.com/zVVwFOK.png' width='480'>\n",
        "\n",
        "`Linear regression` is a type of supervised machine learning algorithm that is used to predict a continuous numerical value from a given set of data. It is a linear approach to modeling the relationship between a dependent variable and one or more independent variables. It assumes that the relationship between the variables is linear, and it uses the best-fit line to make the predictions. Linear regression can be used to model the relationship between a dependent variable and one or more independent variables, such as income and education level."
      ],
      "metadata": {
        "id": "gcBmvm-29JdW"
      }
    },
    {
      "cell_type": "code",
      "execution_count": null,
      "metadata": {
        "id": "cR8g0C0Yswsl"
      },
      "outputs": [],
      "source": [
        "#importing linear regression library\n",
        "from sklearn.linear_model import LinearRegression"
      ]
    },
    {
      "cell_type": "code",
      "execution_count": null,
      "metadata": {
        "id": "GYJkhJQ7tWhT"
      },
      "outputs": [],
      "source": [
        "model_lg = LinearRegression()"
      ]
    },
    {
      "cell_type": "code",
      "execution_count": null,
      "metadata": {
        "colab": {
          "base_uri": "https://localhost:8080/"
        },
        "id": "7XgD5sjbyOUN",
        "outputId": "5fc471e4-b241-4408-ce38-f54b06da06a1"
      },
      "outputs": [
        {
          "output_type": "execute_result",
          "data": {
            "text/plain": [
              "LinearRegression()"
            ]
          },
          "metadata": {},
          "execution_count": 35
        }
      ],
      "source": [
        "#training linear regression\n",
        "model_lg.fit(train_input_col,train_target_col)"
      ]
    },
    {
      "cell_type": "code",
      "execution_count": null,
      "metadata": {
        "id": "ZvjiFUavym5R"
      },
      "outputs": [],
      "source": [
        "#predicting training data\n",
        "train_preds = model_lg.predict(train_input_col)"
      ]
    },
    {
      "cell_type": "code",
      "execution_count": 36,
      "metadata": {
        "id": "JE8jRpcr7q04"
      },
      "outputs": [],
      "source": [
        "#importing metrics\n",
        "from sklearn.metrics import accuracy_score,mean_squared_error,r2_score"
      ]
    },
    {
      "cell_type": "code",
      "execution_count": null,
      "metadata": {
        "colab": {
          "base_uri": "https://localhost:8080/"
        },
        "id": "aK7W15IC02B9",
        "outputId": "8044a07c-7192-4c3b-cdee-c5d9f4f53764"
      },
      "outputs": [
        {
          "output_type": "execute_result",
          "data": {
            "text/plain": [
              "array([[10411.],\n",
              "       [ 7269.],\n",
              "       [ 7042.],\n",
              "       ...,\n",
              "       [ -437.],\n",
              "       [ 5345.],\n",
              "       [ 9145.]])"
            ]
          },
          "metadata": {},
          "execution_count": 38
        }
      ],
      "source": [
        "#predicted values\n",
        "train_preds"
      ]
    },
    {
      "cell_type": "code",
      "execution_count": null,
      "metadata": {
        "id": "ClVywKDN1Rro"
      },
      "outputs": [],
      "source": [
        "#Checking mean squared error\n",
        "train_rmse = mean_squared_error(train_target_col, train_preds, squared= False)"
      ]
    },
    {
      "cell_type": "code",
      "execution_count": null,
      "metadata": {
        "colab": {
          "base_uri": "https://localhost:8080/"
        },
        "id": "wXfvzSQp1rpa",
        "outputId": "46cf4593-84a2-44cb-9ec5-d4b48026cc77"
      },
      "outputs": [
        {
          "output_type": "stream",
          "name": "stdout",
          "text": [
            "The RMSE loss for the training set is ₹ 6776.510722262504.\n"
          ]
        }
      ],
      "source": [
        "print('The RMSE loss for the training set is ₹ {}.'.format(train_rmse))"
      ]
    },
    {
      "cell_type": "code",
      "execution_count": null,
      "metadata": {
        "colab": {
          "base_uri": "https://localhost:8080/"
        },
        "id": "xmNAZ9oQ-dvY",
        "outputId": "c7b05a9e-9ac8-4c70-92f7-3bcb849ec31b"
      },
      "outputs": [
        {
          "output_type": "stream",
          "name": "stdout",
          "text": [
            "R2_score: 0.910915\n"
          ]
        }
      ],
      "source": [
        "print('R2_score:', round(r2_score(train_target_col, train_preds),6))"
      ]
    },
    {
      "cell_type": "code",
      "execution_count": null,
      "metadata": {
        "id": "MxZpmwdU18yX"
      },
      "outputs": [],
      "source": [
        "#preidicting for validation data\n",
        "val_preds = model_lg.predict(val_input_col)"
      ]
    },
    {
      "cell_type": "code",
      "execution_count": null,
      "metadata": {
        "id": "1Nr6FgdG2MR5"
      },
      "outputs": [],
      "source": [
        "val_rmse = mean_squared_error(val_target_col, val_preds, squared= False)"
      ]
    },
    {
      "cell_type": "code",
      "execution_count": null,
      "metadata": {
        "colab": {
          "base_uri": "https://localhost:8080/"
        },
        "id": "yIL2GSkt2W9H",
        "outputId": "aa03b207-f8e6-4a02-9f9d-d48b7edb581f"
      },
      "outputs": [
        {
          "output_type": "stream",
          "name": "stdout",
          "text": [
            "The RMSE loss for the validation set is ₹ 6691.5398669378055.\n"
          ]
        }
      ],
      "source": [
        "print('The RMSE loss for the validation set is ₹ {}.'.format(val_rmse))"
      ]
    },
    {
      "cell_type": "code",
      "execution_count": null,
      "metadata": {
        "colab": {
          "base_uri": "https://localhost:8080/"
        },
        "id": "PXjAOzG4_WZw",
        "outputId": "a2726e76-1e9e-4b50-cc68-bd46e75eafd0"
      },
      "outputs": [
        {
          "output_type": "stream",
          "name": "stdout",
          "text": [
            "R2_score: 0.913029\n"
          ]
        }
      ],
      "source": [
        "print('R2_score:', round(r2_score(val_target_col, val_preds),6))"
      ]
    },
    {
      "cell_type": "markdown",
      "source": [
        "## Training different linear models"
      ],
      "metadata": {
        "id": "kQmyFW2wK2o8"
      }
    },
    {
      "cell_type": "markdown",
      "source": [
        "Let's define a function `try_model`, which takes a model, then performs training and evaluation."
      ],
      "metadata": {
        "id": "jMXhZu-lLKAQ"
      }
    },
    {
      "cell_type": "code",
      "source": [
        "def try_model(model):\n",
        "    # Fit the model\n",
        "    model.fit(train_input_col, train_target_col)\n",
        "    \n",
        "    # Generate predictions\n",
        "    train_preds = model.predict(train_input_col)\n",
        "    val_preds = model.predict(val_input_col)\n",
        "    \n",
        "    # Compute RMSE\n",
        "    train_rmse = mean_squared_error(train_target_col, train_preds, squared=False)\n",
        "    val_rmse = mean_squared_error(val_target_col, val_preds, squared=False)\n",
        "\n",
        "    # Accuracy Score\n",
        "    train_acc = model.score(train_input_col, train_target_col)\n",
        "    val_acc = model.score(val_input_col, val_target_col)\n",
        "\n",
        "    return train_acc, val_acc, train_rmse, val_rmse"
      ],
      "metadata": {
        "id": "aIc8I38NKaTW"
      },
      "execution_count": 65,
      "outputs": []
    },
    {
      "cell_type": "code",
      "source": [
        "from sklearn.linear_model import Ridge, Lasso, ElasticNet, SGDRegressor"
      ],
      "metadata": {
        "id": "jLubuq0pLRRY"
      },
      "execution_count": 66,
      "outputs": []
    },
    {
      "cell_type": "code",
      "source": [
        "try_model(Ridge())"
      ],
      "metadata": {
        "colab": {
          "base_uri": "https://localhost:8080/"
        },
        "id": "gyXt2vqJML0v",
        "outputId": "dc5c77c6-671d-4556-db27-09690e26f862"
      },
      "execution_count": 67,
      "outputs": [
        {
          "output_type": "execute_result",
          "data": {
            "text/plain": [
              "(0.9113935441279035, 0.9116271596270625, 6758.331873765019, 6746.118304192779)"
            ]
          },
          "metadata": {},
          "execution_count": 67
        }
      ]
    },
    {
      "cell_type": "code",
      "source": [
        "try_model(Lasso())"
      ],
      "metadata": {
        "colab": {
          "base_uri": "https://localhost:8080/"
        },
        "id": "mWLJvgJ0MXJM",
        "outputId": "da10e857-060e-4d13-be81-9c5d03c87d8b"
      },
      "execution_count": 68,
      "outputs": [
        {
          "output_type": "execute_result",
          "data": {
            "text/plain": [
              "(0.9113923604796687, 0.9116231320899374, 6758.37701416026, 6746.272027510069)"
            ]
          },
          "metadata": {},
          "execution_count": 68
        }
      ]
    },
    {
      "cell_type": "code",
      "source": [
        "try_model(ElasticNet())"
      ],
      "metadata": {
        "colab": {
          "base_uri": "https://localhost:8080/"
        },
        "id": "eYXmp-U3Mb5o",
        "outputId": "ff66b28e-1691-4343-fece-23efe8fbe3f0"
      },
      "execution_count": 70,
      "outputs": [
        {
          "output_type": "execute_result",
          "data": {
            "text/plain": [
              "(0.6631399305870826,\n",
              " 0.6629950073044242,\n",
              " 13177.456716856874,\n",
              " 13173.849981529054)"
            ]
          },
          "metadata": {},
          "execution_count": 70
        }
      ]
    },
    {
      "cell_type": "code",
      "source": [
        "try_model(SGDRegressor())"
      ],
      "metadata": {
        "colab": {
          "base_uri": "https://localhost:8080/"
        },
        "id": "XvyZ31nbMhU-",
        "outputId": "5b270e5a-a070-4d3b-bb88-5915203c1417"
      },
      "execution_count": 72,
      "outputs": [
        {
          "output_type": "stream",
          "name": "stderr",
          "text": [
            "/usr/local/lib/python3.8/dist-packages/sklearn/utils/validation.py:993: DataConversionWarning: A column-vector y was passed when a 1d array was expected. Please change the shape of y to (n_samples, ), for example using ravel().\n",
            "  y = column_or_1d(y, warn=True)\n"
          ]
        },
        {
          "output_type": "execute_result",
          "data": {
            "text/plain": [
              "(0.9113322383799558, 0.9115835952635296, 6760.669474025329, 6747.780885924928)"
            ]
          },
          "metadata": {},
          "execution_count": 72
        }
      ]
    },
    {
      "cell_type": "code",
      "source": [],
      "metadata": {
        "id": "u7pLH0vwOjgV"
      },
      "execution_count": null,
      "outputs": []
    },
    {
      "cell_type": "markdown",
      "source": [
        "## Decision Tree"
      ],
      "metadata": {
        "id": "V0RpeWXGtvRt"
      }
    },
    {
      "cell_type": "markdown",
      "source": [
        "<img src='https://imgur.com/qxiCMxd.png' width= '480'>\n",
        "\n",
        "`Decision Tree Regressor` is a type of supervised machine learning algorithm used to predict a continuous or numeric value output. It is a non-parametric algorithm that uses a decision tree as a predictive model which maps features (tree branches) to conclusions about the target value (tree leaves). It breaks down a dataset into smaller and smaller subsets while at the same time an associated decision tree is incrementally developed. The final result is a tree with decision nodes and leaf nodes. A decision node has two or more branches, each representing values for the attribute tested. Leaf node represents a decision on the numerical target. The topmost decision node in a tree, which corresponds to the best predictor, is called the root node."
      ],
      "metadata": {
        "id": "XvbpGIe_5s2z"
      }
    },
    {
      "cell_type": "code",
      "execution_count": 30,
      "metadata": {
        "id": "pmePbfuZ9cn6"
      },
      "outputs": [],
      "source": [
        "from sklearn.tree import DecisionTreeRegressor"
      ]
    },
    {
      "cell_type": "code",
      "source": [
        "model_dcr = DecisionTreeRegressor(random_state=42).fit(train_input_col, train_target_col)\n",
        "model_dcr.score(train_input_col, train_target_col),model_dcr.score(val_input_col, val_target_col) # Accuracy Score"
      ],
      "metadata": {
        "colab": {
          "base_uri": "https://localhost:8080/"
        },
        "id": "bjgH_dvU7sIP",
        "outputId": "6d59846e-5ad4-4490-f5c7-e95feefe2b3c"
      },
      "execution_count": 31,
      "outputs": [
        {
          "output_type": "execute_result",
          "data": {
            "text/plain": [
              "(0.9994232596347061, 0.9765538763641097)"
            ]
          },
          "metadata": {},
          "execution_count": 31
        }
      ]
    },
    {
      "cell_type": "code",
      "source": [
        "train_preds_dcr = model_dcr.predict(train_input_col)\n",
        "val_preds_dcr = model_dcr.predict(val_input_col)"
      ],
      "metadata": {
        "id": "5RB18u56B5dS"
      },
      "execution_count": 35,
      "outputs": []
    },
    {
      "cell_type": "code",
      "source": [
        "train_rmse_dcr = mean_squared_error(train_target_col, train_preds_dcr, squared= False)"
      ],
      "metadata": {
        "id": "Kq4Hiub0CqWZ"
      },
      "execution_count": 45,
      "outputs": []
    },
    {
      "cell_type": "code",
      "source": [
        "print('The RMSE loss for the training set is ₹ {}.'.format(train_rmse_dcr))"
      ],
      "metadata": {
        "colab": {
          "base_uri": "https://localhost:8080/"
        },
        "id": "wTimZd7oDd3S",
        "outputId": "24210525-5006-47d2-82c7-6630c6267856"
      },
      "execution_count": 46,
      "outputs": [
        {
          "output_type": "stream",
          "name": "stdout",
          "text": [
            "The RMSE loss for the training set is ₹ 544.3786842417256.\n"
          ]
        }
      ]
    },
    {
      "cell_type": "code",
      "source": [
        "val_rmse_dcr = mean_squared_error(val_target_col, val_preds_dcr, squared= False)"
      ],
      "metadata": {
        "id": "-Le_CJ6MB2wb"
      },
      "execution_count": 40,
      "outputs": []
    },
    {
      "cell_type": "code",
      "source": [
        "print('The RMSE loss for the validation set is ₹ {}.'.format(val_rmse_dcr))"
      ],
      "metadata": {
        "colab": {
          "base_uri": "https://localhost:8080/"
        },
        "id": "LyrOwd7uDehP",
        "outputId": "563f7ee1-c6a3-47f2-b066-47f2464ff69d"
      },
      "execution_count": 42,
      "outputs": [
        {
          "output_type": "stream",
          "name": "stdout",
          "text": [
            "The RMSE loss for the validation set is ₹ 3486.0452262745666.\n"
          ]
        }
      ]
    },
    {
      "cell_type": "code",
      "execution_count": null,
      "metadata": {
        "colab": {
          "base_uri": "https://localhost:8080/"
        },
        "id": "8H-jS_mkVyTB",
        "outputId": "a33fff94-3c87-45f1-ec79-b1244a59cad8"
      },
      "outputs": [
        {
          "output_type": "execute_result",
          "data": {
            "text/plain": [
              "(0.9935911812385774, 0.9776275108198346)"
            ]
          },
          "metadata": {},
          "execution_count": 68
        }
      ],
      "source": [
        "#Tuning Hyperparameters\n",
        "#max_depth\n",
        "model_dcr = DecisionTreeRegressor(max_depth=21, random_state=42).fit(train_input_col, train_target_col)\n",
        "model_dcr.score(train_input_col, train_target_col),model_dcr.score(val_input_col, val_target_col) # Accuracy Score"
      ]
    },
    {
      "cell_type": "code",
      "execution_count": null,
      "metadata": {
        "colab": {
          "base_uri": "https://localhost:8080/"
        },
        "id": "SAr4_5MRdto5",
        "outputId": "335f9004-a213-4b00-b44c-155a45a7ec6d"
      },
      "outputs": [
        {
          "output_type": "execute_result",
          "data": {
            "text/plain": [
              "(0.985043955064969, 0.9815179800369281)"
            ]
          },
          "metadata": {},
          "execution_count": 69
        }
      ],
      "source": [
        "#max_leaf_nodes\n",
        "model_dcr = DecisionTreeRegressor(max_leaf_nodes=1650, random_state=42).fit(train_input_col, train_target_col)\n",
        "model_dcr.score(train_input_col, train_target_col),model_dcr.score(val_input_col, val_target_col) # Accuracy Score"
      ]
    },
    {
      "cell_type": "code",
      "source": [
        "#Combining all the hyperparameters\n",
        "model_dcr_f = DecisionTreeRegressor(max_depth=21,max_leaf_nodes=1650, random_state=42).fit(train_input_col, train_target_col)\n",
        "model_dcr_f.score(train_input_col, train_target_col),model_dcr.score(val_input_col, val_target_col) # Accuracy Score"
      ],
      "metadata": {
        "colab": {
          "base_uri": "https://localhost:8080/"
        },
        "id": "-4kMtP79oMk_",
        "outputId": "40127cc3-7bc6-49ba-ae60-a86b75b8ae74"
      },
      "execution_count": 43,
      "outputs": [
        {
          "output_type": "execute_result",
          "data": {
            "text/plain": [
              "(0.9839688586837315, 0.9765538763641097)"
            ]
          },
          "metadata": {},
          "execution_count": 43
        }
      ]
    },
    {
      "cell_type": "code",
      "source": [
        "# Calculating RMSE\n",
        "train_preds_dcr_f = model_dcr_f.predict(train_input_col)\n",
        "val_preds_dcr_f = model_dcr_f.predict(val_input_col)\n",
        "train_rmse_dcr_f = mean_squared_error(train_target_col, train_preds_dcr_f, squared= False)\n",
        "val_rmse_dcr_f = mean_squared_error(val_target_col, val_preds_dcr_f, squared= False)\n",
        "print('The RMSE loss for the training set is ₹ {}.'.format(train_rmse_dcr_f))\n",
        "print('The RMSE loss for the validation set is ₹ {}.'.format(val_rmse_dcr_f))"
      ],
      "metadata": {
        "colab": {
          "base_uri": "https://localhost:8080/"
        },
        "id": "tUHJD8HDEMAG",
        "outputId": "a33f3fc8-ccd6-41a2-ea51-29e4f9a80db3"
      },
      "execution_count": 44,
      "outputs": [
        {
          "output_type": "stream",
          "name": "stdout",
          "text": [
            "The RMSE loss for the training set is ₹ 2870.0744249853074.\n",
            "The RMSE loss for the validation set is ₹ 3264.1135780967875.\n"
          ]
        }
      ]
    },
    {
      "cell_type": "markdown",
      "source": [
        "## Training a Random Forest\n",
        "\n",
        "While tuning the hyperparameters of a single decision tree may lead to some improvements, a much more effective strategy is to combine the results of several decision trees trained with slightly different parameters. This is called a random forest model. \n",
        "\n",
        "The key idea here is that each decision tree in the forest will make different kinds of errors, and upon averaging, many of their errors will cancel out. This idea is also commonly known as the \"wisdom of the crowd\":\n",
        "\n",
        "<img src=\"https://i.imgur.com/4Dg0XK4.png\" width=\"480\">"
      ],
      "metadata": {
        "id": "g7iDVzolhyzX"
      }
    },
    {
      "cell_type": "markdown",
      "source": [
        "A random forest works by averaging/combining the results of several decision trees:\n",
        "\n",
        "<img src=\"https://1.bp.blogspot.com/-Ax59WK4DE8w/YK6o9bt_9jI/AAAAAAAAEQA/9KbBf9cdL6kOFkJnU39aUn4m8ydThPenwCLcBGAsYHQ/s0/Random%2BForest%2B03.gif\" width=\"640\">\n",
        "\n",
        "\n",
        "We'll use the `RandomForestRegressor` class from `sklearn.ensemble`."
      ],
      "metadata": {
        "id": "Q9RaK0paiJvG"
      }
    },
    {
      "cell_type": "code",
      "execution_count": 29,
      "metadata": {
        "id": "3HiGGWhIg04d"
      },
      "outputs": [],
      "source": [
        "from sklearn.ensemble import RandomForestRegressor"
      ]
    },
    {
      "cell_type": "code",
      "execution_count": 30,
      "metadata": {
        "colab": {
          "base_uri": "https://localhost:8080/"
        },
        "id": "K3F7KNjeg5EH",
        "outputId": "cf587eae-a049-4dab-a072-c6cfbbaeccd9"
      },
      "outputs": [
        {
          "output_type": "stream",
          "name": "stderr",
          "text": [
            "<ipython-input-30-c5562d9b4548>:1: DataConversionWarning: A column-vector y was passed when a 1d array was expected. Please change the shape of y to (n_samples,), for example using ravel().\n",
            "  model_rf =  RandomForestRegressor(random_state=42, n_jobs=-1).fit(train_input_col, train_target_col)\n"
          ]
        },
        {
          "output_type": "execute_result",
          "data": {
            "text/plain": [
              "0.984085072746252"
            ]
          },
          "metadata": {},
          "execution_count": 30
        }
      ],
      "source": [
        "model_rf =  RandomForestRegressor(random_state=42, n_jobs=-1).fit(train_input_col, train_target_col)\n",
        "model_rf.score(val_input_col, val_target_col)"
      ]
    },
    {
      "cell_type": "code",
      "source": [
        "train_preds_rf = model_rf.predict(train_input_col)\n",
        "val_preds_rf = model_rf.predict(val_input_col)\n",
        "train_rmse_rf = mean_squared_error(train_target_col, train_preds_rf, squared= False)\n",
        "val_rmse_rf = mean_squared_error(val_target_col, val_preds_rf, squared= False)\n",
        "print('The RMSE loss for the training set is ₹ {}.'.format(train_rmse_rf))\n",
        "print('The RMSE loss for the validation set is ₹ {}.'.format(val_rmse_rf))"
      ],
      "metadata": {
        "colab": {
          "base_uri": "https://localhost:8080/"
        },
        "id": "kl7rG5x7Fhp6",
        "outputId": "4734795f-b71d-482c-ffa8-8ab73db2f124"
      },
      "execution_count": 37,
      "outputs": [
        {
          "output_type": "stream",
          "name": "stdout",
          "text": [
            "The RMSE loss for the training set is ₹ 1118.6408469789842.\n",
            "The RMSE loss for the validation set is ₹ 2862.838671032942.\n"
          ]
        }
      ]
    },
    {
      "cell_type": "code",
      "source": [
        "base_acc =  model_rf.score(train_input_col, train_target_col), model_rf.score(val_input_col, val_target_col), train_rmse_rf, val_rmse_rf\n",
        "base_acc # accuracy and RMSE of our base model "
      ],
      "metadata": {
        "colab": {
          "base_uri": "https://localhost:8080/"
        },
        "id": "w3frBJB7Zr1y",
        "outputId": "ab4f1625-782d-4d73-c297-e8bb73f1ded2"
      },
      "execution_count": 38,
      "outputs": [
        {
          "output_type": "execute_result",
          "data": {
            "text/plain": [
              "(0.9975724527938589, 0.984085072746252, 1118.6408469789842, 2862.838671032942)"
            ]
          },
          "metadata": {},
          "execution_count": 38
        }
      ]
    },
    {
      "cell_type": "markdown",
      "source": [
        "Let's define a helper function `test_params` to make it easy to test hyperparameters."
      ],
      "metadata": {
        "id": "JTdW7tfjmq0E"
      }
    },
    {
      "cell_type": "code",
      "source": [
        "def test_params(**params):\n",
        "    model = RandomForestRegressor(random_state=42, n_jobs=-1, **params).fit(train_input_col, train_target_col)\n",
        "    \n",
        "    train_preds = model.predict(train_input_col)\n",
        "    val_preds = model.predict(val_input_col)\n",
        "\n",
        "    train_rmse = mean_squared_error(train_target_col, train_preds, squared=False)\n",
        "    val_rmse = mean_squared_error(val_target_col, val_preds, squared=False)\n",
        "\n",
        "    return model.score(train_input_col, train_target_col), model.score(val_input_col, val_target_col), train_rmse, val_rmse"
      ],
      "metadata": {
        "id": "e3K-mgGSdcrw"
      },
      "execution_count": 45,
      "outputs": []
    },
    {
      "cell_type": "markdown",
      "source": [
        "### `n_estimators`\n",
        "\n",
        "This argument controls the number of decision trees in the random forest. The default value is 100. For larger datasets, it helps to have a greater number of estimators.\n",
        "\n"
      ],
      "metadata": {
        "id": "F1431ecpmZEF"
      }
    },
    {
      "cell_type": "code",
      "source": [
        "test_params(n_estimators=450)"
      ],
      "metadata": {
        "id": "oWIGH9sbmDNJ",
        "colab": {
          "base_uri": "https://localhost:8080/"
        },
        "outputId": "adb209ef-7361-408d-ce20-5e1e860fa9aa"
      },
      "execution_count": 58,
      "outputs": [
        {
          "output_type": "stream",
          "name": "stderr",
          "text": [
            "<ipython-input-57-b24de8a629d7>:2: DataConversionWarning: A column-vector y was passed when a 1d array was expected. Please change the shape of y to (n_samples,), for example using ravel().\n",
            "  model = RandomForestRegressor(random_state=42, n_jobs=-1, **params).fit(train_input_col, train_target_col)\n"
          ]
        },
        {
          "output_type": "execute_result",
          "data": {
            "text/plain": [
              "(0.9976482609617601,\n",
              " 0.9857959955440055,\n",
              " 1099.2728496379866,\n",
              " 2713.3317184254443)"
            ]
          },
          "metadata": {},
          "execution_count": 58
        }
      ]
    },
    {
      "cell_type": "code",
      "source": [
        "base_acc"
      ],
      "metadata": {
        "colab": {
          "base_uri": "https://localhost:8080/"
        },
        "id": "z6D-QbPsnhH0",
        "outputId": "726e6e0a-7a86-43ee-b1a3-62754da87e3f"
      },
      "execution_count": 46,
      "outputs": [
        {
          "output_type": "execute_result",
          "data": {
            "text/plain": [
              "(0.9975724527938589, 0.984085072746252, 1118.6408469789842, 2862.838671032942)"
            ]
          },
          "metadata": {},
          "execution_count": 46
        }
      ]
    },
    {
      "cell_type": "markdown",
      "source": [
        "### `max_depth`\n",
        "\n",
        "These arguments are passed directly to each decision tree, and control the maximum depth. By default, no maximum depth is specified, which is why each tree has a training accuracy of 100%. You can specify a `max_depth` to reduce overfitting.\n",
        "\n",
        "<img src=\"https://i.imgur.com/EJCrSZw.png\" width=\"480\">"
      ],
      "metadata": {
        "id": "s67H_YCcnYLQ"
      }
    },
    {
      "cell_type": "code",
      "source": [
        "test_params(max_depth=23)"
      ],
      "metadata": {
        "colab": {
          "base_uri": "https://localhost:8080/"
        },
        "id": "q7uz8PuMd2ra",
        "outputId": "c3782cb8-029c-48d8-ce46-e3a3446bf509"
      },
      "execution_count": 47,
      "outputs": [
        {
          "output_type": "stream",
          "name": "stderr",
          "text": [
            "<ipython-input-45-b24de8a629d7>:2: DataConversionWarning: A column-vector y was passed when a 1d array was expected. Please change the shape of y to (n_samples,), for example using ravel().\n",
            "  model = RandomForestRegressor(random_state=42, n_jobs=-1, **params).fit(train_input_col, train_target_col)\n"
          ]
        },
        {
          "output_type": "execute_result",
          "data": {
            "text/plain": [
              "(0.9961460247462176,\n",
              " 0.9845793445257025,\n",
              " 1409.4877066164684,\n",
              " 2818.0322780539527)"
            ]
          },
          "metadata": {},
          "execution_count": 47
        }
      ]
    },
    {
      "cell_type": "code",
      "source": [
        "base_acc"
      ],
      "metadata": {
        "colab": {
          "base_uri": "https://localhost:8080/"
        },
        "id": "SJHC_YPinyCd",
        "outputId": "aeb7d2a8-d683-4769-db0e-956c60dd1c77"
      },
      "execution_count": 48,
      "outputs": [
        {
          "output_type": "execute_result",
          "data": {
            "text/plain": [
              "(0.9975724527938589, 0.984085072746252, 1118.6408469789842, 2862.838671032942)"
            ]
          },
          "metadata": {},
          "execution_count": 48
        }
      ]
    },
    {
      "cell_type": "markdown",
      "source": [
        "### `max_features`\n",
        "\n",
        "Instead of picking all features (columns) for every split, we can specify that only a fraction of features be chosen randomly to figure out a split.\n",
        "\n",
        "<img src=\"https://i.imgur.com/FXGWMDY.png\" width=\"720\">\n",
        "\n"
      ],
      "metadata": {
        "id": "NI3rfi-Kor8n"
      }
    },
    {
      "cell_type": "code",
      "source": [
        "test_params(max_features='sqrt')"
      ],
      "metadata": {
        "colab": {
          "base_uri": "https://localhost:8080/"
        },
        "id": "NPbfMqRYgWkO",
        "outputId": "f549be05-4784-462d-9749-81334b35d2ca"
      },
      "execution_count": 49,
      "outputs": [
        {
          "output_type": "stream",
          "name": "stderr",
          "text": [
            "<ipython-input-45-b24de8a629d7>:2: DataConversionWarning: A column-vector y was passed when a 1d array was expected. Please change the shape of y to (n_samples,), for example using ravel().\n",
            "  model = RandomForestRegressor(random_state=42, n_jobs=-1, **params).fit(train_input_col, train_target_col)\n"
          ]
        },
        {
          "output_type": "execute_result",
          "data": {
            "text/plain": [
              "(0.9974345827488934, 0.9830460797905984, 1149.968215615039, 2954.810363305739)"
            ]
          },
          "metadata": {},
          "execution_count": 49
        }
      ]
    },
    {
      "cell_type": "markdown",
      "source": [
        "### `bootstrap`, `max_samples` \n",
        "\n",
        "By default, a random forest doesn't use the entire dataset for training each decision tree. Instead it applies a technique called bootstrapping. For each tree, rows from the dataset are picked one by one randomly, with replacement i.e. some rows may not show up at all, while some rows may show up multiple times.\n",
        "\n",
        "\n",
        "<img src=\"https://i.imgur.com/W8UGaEA.png\" width=\"640\">\n",
        "\n",
        "Bootstrapping helps the random forest generalize better, because each decision tree only sees a fraction of th training set, and some rows randomly get higher weightage than others."
      ],
      "metadata": {
        "id": "IJ9XmnkBhS3l"
      }
    },
    {
      "cell_type": "code",
      "source": [
        "test_params(bootstrap=True)"
      ],
      "metadata": {
        "colab": {
          "base_uri": "https://localhost:8080/"
        },
        "id": "BZARJqeQgzyE",
        "outputId": "e7702015-0b8c-462a-8461-4fa21dec97ac"
      },
      "execution_count": 50,
      "outputs": [
        {
          "output_type": "stream",
          "name": "stderr",
          "text": [
            "<ipython-input-45-b24de8a629d7>:2: DataConversionWarning: A column-vector y was passed when a 1d array was expected. Please change the shape of y to (n_samples,), for example using ravel().\n",
            "  model = RandomForestRegressor(random_state=42, n_jobs=-1, **params).fit(train_input_col, train_target_col)\n"
          ]
        },
        {
          "output_type": "execute_result",
          "data": {
            "text/plain": [
              "(0.9975724527938589, 0.984085072746252, 1118.6408469789842, 2862.838671032942)"
            ]
          },
          "metadata": {},
          "execution_count": 50
        }
      ]
    },
    {
      "cell_type": "markdown",
      "source": [
        "When bootstrapping is enabled, you can also control the number or fraction of rows to be considered for each bootstrap using `max_samples`. This can further generalize the model.\n",
        "\n",
        "<img src=\"https://i.imgur.com/rsdrL1W.png\" width=\"640\">"
      ],
      "metadata": {
        "id": "l6-y-w9gg4Dv"
      }
    },
    {
      "cell_type": "code",
      "source": [
        "test_params(max_samples=None)"
      ],
      "metadata": {
        "colab": {
          "base_uri": "https://localhost:8080/"
        },
        "id": "FJrLviefhK18",
        "outputId": "af0636b6-e89a-4197-bb44-cc3dcdf4f9c9"
      },
      "execution_count": 51,
      "outputs": [
        {
          "output_type": "stream",
          "name": "stderr",
          "text": [
            "<ipython-input-45-b24de8a629d7>:2: DataConversionWarning: A column-vector y was passed when a 1d array was expected. Please change the shape of y to (n_samples,), for example using ravel().\n",
            "  model = RandomForestRegressor(random_state=42, n_jobs=-1, **params).fit(train_input_col, train_target_col)\n"
          ]
        },
        {
          "output_type": "execute_result",
          "data": {
            "text/plain": [
              "(0.9975724527938589, 0.984085072746252, 1118.6408469789842, 2862.838671032942)"
            ]
          },
          "metadata": {},
          "execution_count": 51
        }
      ]
    },
    {
      "cell_type": "code",
      "source": [
        "base_acc"
      ],
      "metadata": {
        "colab": {
          "base_uri": "https://localhost:8080/"
        },
        "id": "OsQasEvJpKhb",
        "outputId": "4c3a91ac-ab2f-4fbd-971f-f168f00f01c4"
      },
      "execution_count": 52,
      "outputs": [
        {
          "output_type": "execute_result",
          "data": {
            "text/plain": [
              "(0.9975724527938589, 0.984085072746252, 1118.6408469789842, 2862.838671032942)"
            ]
          },
          "metadata": {},
          "execution_count": 52
        }
      ]
    },
    {
      "cell_type": "markdown",
      "source": [
        "### Putting it together\n",
        "\n",
        "Let's train a random forest with customized hyperparameters based on our learnings."
      ],
      "metadata": {
        "id": "WjOKEQWMrXby"
      }
    },
    {
      "cell_type": "code",
      "source": [
        "model = RandomForestRegressor(n_jobs=-1, \n",
        "                               random_state=42, \n",
        "                               n_estimators=450,\n",
        "                               max_depth=23)"
      ],
      "metadata": {
        "id": "p2OjzBjIpNuD"
      },
      "execution_count": 53,
      "outputs": []
    },
    {
      "cell_type": "code",
      "source": [
        "model.fit(train_input_col, train_target_col)\n"
      ],
      "metadata": {
        "colab": {
          "base_uri": "https://localhost:8080/"
        },
        "id": "iaHxt2WMqD67",
        "outputId": "8ed4cb67-100a-4aed-b0ff-4bf5116da1e3"
      },
      "execution_count": 54,
      "outputs": [
        {
          "metadata": {
            "tags": null
          },
          "name": "stderr",
          "output_type": "stream",
          "text": [
            "<ipython-input-54-6fb2df681a90>:1: DataConversionWarning: A column-vector y was passed when a 1d array was expected. Please change the shape of y to (n_samples,), for example using ravel().\n",
            "  model.fit(train_input_col, train_target_col)\n"
          ]
        },
        {
          "output_type": "execute_result",
          "data": {
            "text/plain": [
              "RandomForestRegressor(max_depth=23, n_estimators=450, n_jobs=-1,\n",
              "                      random_state=42)"
            ]
          },
          "metadata": {},
          "execution_count": 54
        }
      ]
    },
    {
      "cell_type": "code",
      "source": [
        "model.score(train_input_col, train_target_col),model.score(val_input_col, val_target_col)"
      ],
      "metadata": {
        "colab": {
          "base_uri": "https://localhost:8080/"
        },
        "id": "vDNX7gGMqJzd",
        "outputId": "839d4786-cbe4-40ae-e158-39d4df538836"
      },
      "execution_count": null,
      "outputs": [
        {
          "output_type": "execute_result",
          "data": {
            "text/plain": [
              "(0.9962763652432385, 0.9855858313035758)"
            ]
          },
          "metadata": {},
          "execution_count": 52
        }
      ]
    },
    {
      "cell_type": "code",
      "source": [
        "train_preds_rf_f = model.predict(train_input_col)\n",
        "val_preds_rf_f = model.predict(val_input_col)\n",
        "train_rmse_f = mean_squared_error(train_target_col, train_preds_rf_f, squared=False)\n",
        "val_rmse_f = mean_squared_error(val_target_col, val_preds_rf_f, squared=False)"
      ],
      "metadata": {
        "id": "ZASRGKpMFIU2"
      },
      "execution_count": 60,
      "outputs": []
    },
    {
      "cell_type": "code",
      "source": [
        "train_rmse_f,val_rmse_f"
      ],
      "metadata": {
        "colab": {
          "base_uri": "https://localhost:8080/"
        },
        "id": "EnmUeza_IfdI",
        "outputId": "c472c1fc-5dac-4ed4-e454-635928a3605c"
      },
      "execution_count": 61,
      "outputs": [
        {
          "output_type": "execute_result",
          "data": {
            "text/plain": [
              "(1398.5633775779222, 2815.357064277313)"
            ]
          },
          "metadata": {},
          "execution_count": 61
        }
      ]
    },
    {
      "cell_type": "code",
      "source": [
        "base_acc"
      ],
      "metadata": {
        "colab": {
          "base_uri": "https://localhost:8080/"
        },
        "id": "exT32U_asTAq",
        "outputId": "9a2d1709-20eb-41e6-e28c-4e63edbcbbdd"
      },
      "execution_count": 59,
      "outputs": [
        {
          "output_type": "execute_result",
          "data": {
            "text/plain": [
              "(0.9975724527938589, 0.984085072746252, 1118.6408469789842, 2862.838671032942)"
            ]
          },
          "metadata": {},
          "execution_count": 59
        }
      ]
    },
    {
      "cell_type": "markdown",
      "source": [
        "Finally, let's also compute the accuracy and RMSE of our model on the test set."
      ],
      "metadata": {
        "id": "3ONydMsgs5he"
      }
    },
    {
      "cell_type": "code",
      "source": [
        "model.score(test_input_col,test_target_col)"
      ],
      "metadata": {
        "colab": {
          "base_uri": "https://localhost:8080/"
        },
        "id": "pEs9w364s7Do",
        "outputId": "556ba7b9-a1e1-431a-b465-87b089cbe91a"
      },
      "execution_count": 62,
      "outputs": [
        {
          "output_type": "execute_result",
          "data": {
            "text/plain": [
              "0.9858148473170169"
            ]
          },
          "metadata": {},
          "execution_count": 62
        }
      ]
    },
    {
      "cell_type": "code",
      "source": [
        "test_preds = model.predict(test_input_col)\n",
        "test_rmse = mean_squared_error(test_target_col, test_preds, squared=False)\n",
        "test_rmse"
      ],
      "metadata": {
        "colab": {
          "base_uri": "https://localhost:8080/"
        },
        "id": "jD9Ev5zDJgVb",
        "outputId": "b86e609c-ae7e-4eae-eff2-201d23e7be3a"
      },
      "execution_count": 64,
      "outputs": [
        {
          "output_type": "execute_result",
          "data": {
            "text/plain": [
              "2700.2577329488595"
            ]
          },
          "metadata": {},
          "execution_count": 64
        }
      ]
    },
    {
      "cell_type": "markdown",
      "source": [
        "\n",
        "This result is very good and indicates that our model was able to generalize well to unseen data and make accurate predictions. This result also suggests that our model was able to capture the underlying patterns in the data and make accurate predictions."
      ],
      "metadata": {
        "id": "_U_rHzCPjcoa"
      }
    },
    {
      "cell_type": "markdown",
      "source": [
        "# Summary and Insights"
      ],
      "metadata": {
        "id": "cSHgI13PpsUV"
      }
    },
    {
      "cell_type": "markdown",
      "source": [
        "In this notebook we explored Supervised Machine Learning methods. Regression models such as linear regression, decision tree and ensemble models such as RandomForest were trained to predict flight prices.  We used **Pandas**, **Numpy**, **Matplotlib** and **Seaborn** to perform the exploratory data analysis and gather insights for machine learning.\n",
        "\n",
        "- Our dataset had 300,153  rows and 14 columns. \n",
        "\n",
        "-  We prepared the data by merging features with the train and test data sets, split the train data into train and val sets, encoded categorical values and scaled the values using MinMaxScaler. \n",
        "\n",
        "- Since Linear regression models assume a normal distribution and also have other assumptions of independence of variables -  multicollinearity, heteroskedacity etc, our linear regression model performed bit poorly.\n",
        "\n",
        "- Decision trees performed better as they are non-linear models but they also tend to overfit the data if unbounded. While we can tune the hyperparameters to reduce overfitting we can also use more powerful ensemble models.\n",
        "\n",
        "- Ensemble models such as Random Forest reduce overfitting by bagging the results of multiple decision trees.\n",
        "\n",
        "- **Random Forest** performed the best with simple inputs and even better after tuning some hyperparameter tuning.  \n",
        "\n"
      ],
      "metadata": {
        "id": "TaL_rnj2oHBu"
      }
    },
    {
      "cell_type": "markdown",
      "source": [
        "# Suggestions for Future Work \n",
        "- Tune SVM, Ridge, SGD models\n",
        "- Optimal Hyperparameter tuning for example with RandomSearchCV\n",
        "- Neural Network models such as LSTM\n",
        "- Remove outliers and perform interventions post prediction\n",
        "- Stacking models\n",
        "- Cleaner and more robust pipeline for transformation\n",
        "- Compare and contrast ARIMA, Prophet, Classical Machine Learning and Neural Network models\n",
        "- Deploy the model on cloud."
      ],
      "metadata": {
        "id": "AXTLQV8d0EVb"
      }
    },
    {
      "cell_type": "markdown",
      "source": [
        "# References\n",
        "**Tutorials**  \n",
        "-Linear Regression with Scikit-Learn [Jovian Aakash N S ](https://jovian.ai/learn/zero-to-data-analyst-bootcamp/lesson/linear-regression-with-scikit-learn)  \n",
        "- How to approach Machine Learning Problems [Jovian Aakash N S](https://jovian.ai/learn/zero-to-data-analyst-bootcamp/lesson/how-to-approach-machine-learning-problems)  \n",
        "- Gradient Boosting Machines with XGBoost [Jovian Aakash N S](https://jovian.ai/learn/zero-to-data-analyst-bootcamp/lesson/gradient-boosting-machines-with-xgboost)  \n",
        "- Jovian Youtube : [Youtube](https://www.youtube.com/c/JovianML)\n",
        "- Machine Learnng A-Z : [Udemy](https://www.udemy.com/course/machinelearning/)\n",
        "\n",
        "**Documentation**  \n",
        "- Scikit Learn Supervised Learning [documentation](https://scikit-learn.org/stable/supervised_learning.html#supervised-learning)  \n",
        "- Pandas Documentation: https://pandas.pydata.org/docs/user_guide/index.html\n",
        "- Seaborn gallery: https://seaborn.pydata.org/examples/index.html\n",
        "- Matplotlib gallery: https://matplotlib.org/3.1.1/gallery/index.html\n",
        "- Light GBM [documentation](https://lightgbm.readthedocs.io/en/latest/)  \n",
        "- XGBoost [documentation](https://xgboost.readthedocs.io/en/latest/)\n",
        "\n",
        "\n"
      ],
      "metadata": {
        "id": "2qm-qo8u1dHP"
      }
    }
  ],
  "metadata": {
    "colab": {
      "collapsed_sections": [
        "VT440vpGz9R-",
        "kyGVR0CPrmHx"
      ],
      "provenance": []
    },
    "kernelspec": {
      "display_name": "Python 3",
      "name": "python3"
    },
    "accelerator": "GPU",
    "gpuClass": "standard"
  },
  "nbformat": 4,
  "nbformat_minor": 0
}